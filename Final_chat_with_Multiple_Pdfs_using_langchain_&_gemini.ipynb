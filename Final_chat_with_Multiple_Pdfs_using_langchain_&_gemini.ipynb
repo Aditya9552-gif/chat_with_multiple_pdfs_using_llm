{
  "nbformat": 4,
  "nbformat_minor": 0,
  "metadata": {
    "colab": {
      "provenance": []
    },
    "kernelspec": {
      "name": "python3",
      "display_name": "Python 3"
    },
    "language_info": {
      "name": "python"
    }
  },
  "cells": [
    {
      "cell_type": "markdown",
      "source": [
        "# Chat with Multiple Pdfs using Gemini and LangChain"
      ],
      "metadata": {
        "id": "PfQoDKxKyCDq"
      }
    },
    {
      "cell_type": "code",
      "source": [
        "# install requried libraries from requirements.txt\n",
        "!pip install -r requirements.txt"
      ],
      "metadata": {
        "colab": {
          "base_uri": "https://localhost:8080/"
        },
        "id": "os5enWBvoing",
        "outputId": "e6f7e759-4e65-460f-97d3-566579797f96"
      },
      "execution_count": null,
      "outputs": [
        {
          "output_type": "stream",
          "name": "stdout",
          "text": [
            "Requirement already satisfied: streamlit in /usr/local/lib/python3.11/dist-packages (from -r requirements.txt (line 1)) (1.46.0)\n",
            "Requirement already satisfied: google-generativeai in /usr/local/lib/python3.11/dist-packages (from -r requirements.txt (line 2)) (0.8.5)\n",
            "Requirement already satisfied: python-dotenv in /usr/local/lib/python3.11/dist-packages (from -r requirements.txt (line 3)) (1.1.0)\n",
            "Requirement already satisfied: langchain in /usr/local/lib/python3.11/dist-packages (from -r requirements.txt (line 4)) (0.3.25)\n",
            "Requirement already satisfied: PyPDF2 in /usr/local/lib/python3.11/dist-packages (from -r requirements.txt (line 5)) (3.0.1)\n",
            "Requirement already satisfied: chromadb in /usr/local/lib/python3.11/dist-packages (from -r requirements.txt (line 6)) (1.0.13)\n",
            "Requirement already satisfied: faiss-cpu in /usr/local/lib/python3.11/dist-packages (from -r requirements.txt (line 7)) (1.11.0)\n",
            "Requirement already satisfied: langchain_google_genai in /usr/local/lib/python3.11/dist-packages (from -r requirements.txt (line 8)) (2.0.10)\n",
            "Requirement already satisfied: langchain-community in /usr/local/lib/python3.11/dist-packages (from -r requirements.txt (line 9)) (0.3.25)\n",
            "Requirement already satisfied: altair<6,>=4.0 in /usr/local/lib/python3.11/dist-packages (from streamlit->-r requirements.txt (line 1)) (5.5.0)\n",
            "Requirement already satisfied: blinker<2,>=1.5.0 in /usr/local/lib/python3.11/dist-packages (from streamlit->-r requirements.txt (line 1)) (1.9.0)\n",
            "Requirement already satisfied: cachetools<7,>=4.0 in /usr/local/lib/python3.11/dist-packages (from streamlit->-r requirements.txt (line 1)) (5.5.2)\n",
            "Requirement already satisfied: click<9,>=7.0 in /usr/local/lib/python3.11/dist-packages (from streamlit->-r requirements.txt (line 1)) (8.2.1)\n",
            "Requirement already satisfied: numpy<3,>=1.23 in /usr/local/lib/python3.11/dist-packages (from streamlit->-r requirements.txt (line 1)) (2.0.2)\n",
            "Requirement already satisfied: packaging<26,>=20 in /usr/local/lib/python3.11/dist-packages (from streamlit->-r requirements.txt (line 1)) (24.2)\n",
            "Requirement already satisfied: pandas<3,>=1.4.0 in /usr/local/lib/python3.11/dist-packages (from streamlit->-r requirements.txt (line 1)) (2.2.2)\n",
            "Requirement already satisfied: pillow<12,>=7.1.0 in /usr/local/lib/python3.11/dist-packages (from streamlit->-r requirements.txt (line 1)) (11.2.1)\n",
            "Requirement already satisfied: protobuf<7,>=3.20 in /usr/local/lib/python3.11/dist-packages (from streamlit->-r requirements.txt (line 1)) (5.29.5)\n",
            "Requirement already satisfied: pyarrow>=7.0 in /usr/local/lib/python3.11/dist-packages (from streamlit->-r requirements.txt (line 1)) (18.1.0)\n",
            "Requirement already satisfied: requests<3,>=2.27 in /usr/local/lib/python3.11/dist-packages (from streamlit->-r requirements.txt (line 1)) (2.32.3)\n",
            "Requirement already satisfied: tenacity<10,>=8.1.0 in /usr/local/lib/python3.11/dist-packages (from streamlit->-r requirements.txt (line 1)) (9.1.2)\n",
            "Requirement already satisfied: toml<2,>=0.10.1 in /usr/local/lib/python3.11/dist-packages (from streamlit->-r requirements.txt (line 1)) (0.10.2)\n",
            "Requirement already satisfied: typing-extensions<5,>=4.4.0 in /usr/local/lib/python3.11/dist-packages (from streamlit->-r requirements.txt (line 1)) (4.14.0)\n",
            "Requirement already satisfied: watchdog<7,>=2.1.5 in /usr/local/lib/python3.11/dist-packages (from streamlit->-r requirements.txt (line 1)) (6.0.0)\n",
            "Requirement already satisfied: gitpython!=3.1.19,<4,>=3.0.7 in /usr/local/lib/python3.11/dist-packages (from streamlit->-r requirements.txt (line 1)) (3.1.44)\n",
            "Requirement already satisfied: pydeck<1,>=0.8.0b4 in /usr/local/lib/python3.11/dist-packages (from streamlit->-r requirements.txt (line 1)) (0.9.1)\n",
            "Requirement already satisfied: tornado!=6.5.0,<7,>=6.0.3 in /usr/local/lib/python3.11/dist-packages (from streamlit->-r requirements.txt (line 1)) (6.4.2)\n",
            "Requirement already satisfied: google-ai-generativelanguage==0.6.15 in /usr/local/lib/python3.11/dist-packages (from google-generativeai->-r requirements.txt (line 2)) (0.6.15)\n",
            "Requirement already satisfied: google-api-core in /usr/local/lib/python3.11/dist-packages (from google-generativeai->-r requirements.txt (line 2)) (2.25.1)\n",
            "Requirement already satisfied: google-api-python-client in /usr/local/lib/python3.11/dist-packages (from google-generativeai->-r requirements.txt (line 2)) (2.172.0)\n",
            "Requirement already satisfied: google-auth>=2.15.0 in /usr/local/lib/python3.11/dist-packages (from google-generativeai->-r requirements.txt (line 2)) (2.38.0)\n",
            "Requirement already satisfied: pydantic in /usr/local/lib/python3.11/dist-packages (from google-generativeai->-r requirements.txt (line 2)) (2.11.7)\n",
            "Requirement already satisfied: tqdm in /usr/local/lib/python3.11/dist-packages (from google-generativeai->-r requirements.txt (line 2)) (4.67.1)\n",
            "Requirement already satisfied: proto-plus<2.0.0dev,>=1.22.3 in /usr/local/lib/python3.11/dist-packages (from google-ai-generativelanguage==0.6.15->google-generativeai->-r requirements.txt (line 2)) (1.26.1)\n",
            "Requirement already satisfied: langchain-core<1.0.0,>=0.3.58 in /usr/local/lib/python3.11/dist-packages (from langchain->-r requirements.txt (line 4)) (0.3.65)\n",
            "Requirement already satisfied: langchain-text-splitters<1.0.0,>=0.3.8 in /usr/local/lib/python3.11/dist-packages (from langchain->-r requirements.txt (line 4)) (0.3.8)\n",
            "Requirement already satisfied: langsmith<0.4,>=0.1.17 in /usr/local/lib/python3.11/dist-packages (from langchain->-r requirements.txt (line 4)) (0.3.45)\n",
            "Requirement already satisfied: SQLAlchemy<3,>=1.4 in /usr/local/lib/python3.11/dist-packages (from langchain->-r requirements.txt (line 4)) (2.0.41)\n",
            "Requirement already satisfied: PyYAML>=5.3 in /usr/local/lib/python3.11/dist-packages (from langchain->-r requirements.txt (line 4)) (6.0.2)\n",
            "Requirement already satisfied: build>=1.0.3 in /usr/local/lib/python3.11/dist-packages (from chromadb->-r requirements.txt (line 6)) (1.2.2.post1)\n",
            "Requirement already satisfied: pybase64>=1.4.1 in /usr/local/lib/python3.11/dist-packages (from chromadb->-r requirements.txt (line 6)) (1.4.1)\n",
            "Requirement already satisfied: uvicorn>=0.18.3 in /usr/local/lib/python3.11/dist-packages (from uvicorn[standard]>=0.18.3->chromadb->-r requirements.txt (line 6)) (0.34.3)\n",
            "Requirement already satisfied: posthog>=2.4.0 in /usr/local/lib/python3.11/dist-packages (from chromadb->-r requirements.txt (line 6)) (5.1.0)\n",
            "Requirement already satisfied: onnxruntime>=1.14.1 in /usr/local/lib/python3.11/dist-packages (from chromadb->-r requirements.txt (line 6)) (1.22.0)\n",
            "Requirement already satisfied: opentelemetry-api>=1.2.0 in /usr/local/lib/python3.11/dist-packages (from chromadb->-r requirements.txt (line 6)) (1.34.1)\n",
            "Requirement already satisfied: opentelemetry-exporter-otlp-proto-grpc>=1.2.0 in /usr/local/lib/python3.11/dist-packages (from chromadb->-r requirements.txt (line 6)) (1.34.1)\n",
            "Requirement already satisfied: opentelemetry-sdk>=1.2.0 in /usr/local/lib/python3.11/dist-packages (from chromadb->-r requirements.txt (line 6)) (1.34.1)\n",
            "Requirement already satisfied: tokenizers>=0.13.2 in /usr/local/lib/python3.11/dist-packages (from chromadb->-r requirements.txt (line 6)) (0.21.1)\n",
            "Requirement already satisfied: pypika>=0.48.9 in /usr/local/lib/python3.11/dist-packages (from chromadb->-r requirements.txt (line 6)) (0.48.9)\n",
            "Requirement already satisfied: overrides>=7.3.1 in /usr/local/lib/python3.11/dist-packages (from chromadb->-r requirements.txt (line 6)) (7.7.0)\n",
            "Requirement already satisfied: importlib-resources in /usr/local/lib/python3.11/dist-packages (from chromadb->-r requirements.txt (line 6)) (6.5.2)\n",
            "Requirement already satisfied: grpcio>=1.58.0 in /usr/local/lib/python3.11/dist-packages (from chromadb->-r requirements.txt (line 6)) (1.73.0)\n",
            "Requirement already satisfied: bcrypt>=4.0.1 in /usr/local/lib/python3.11/dist-packages (from chromadb->-r requirements.txt (line 6)) (4.3.0)\n",
            "Requirement already satisfied: typer>=0.9.0 in /usr/local/lib/python3.11/dist-packages (from chromadb->-r requirements.txt (line 6)) (0.16.0)\n",
            "Requirement already satisfied: kubernetes>=28.1.0 in /usr/local/lib/python3.11/dist-packages (from chromadb->-r requirements.txt (line 6)) (33.1.0)\n",
            "Requirement already satisfied: mmh3>=4.0.1 in /usr/local/lib/python3.11/dist-packages (from chromadb->-r requirements.txt (line 6)) (5.1.0)\n",
            "Requirement already satisfied: orjson>=3.9.12 in /usr/local/lib/python3.11/dist-packages (from chromadb->-r requirements.txt (line 6)) (3.10.18)\n",
            "Requirement already satisfied: httpx>=0.27.0 in /usr/local/lib/python3.11/dist-packages (from chromadb->-r requirements.txt (line 6)) (0.28.1)\n",
            "Requirement already satisfied: rich>=10.11.0 in /usr/local/lib/python3.11/dist-packages (from chromadb->-r requirements.txt (line 6)) (13.9.4)\n",
            "Requirement already satisfied: jsonschema>=4.19.0 in /usr/local/lib/python3.11/dist-packages (from chromadb->-r requirements.txt (line 6)) (4.24.0)\n",
            "Requirement already satisfied: filetype<2.0.0,>=1.2.0 in /usr/local/lib/python3.11/dist-packages (from langchain_google_genai->-r requirements.txt (line 8)) (1.2.0)\n",
            "Requirement already satisfied: aiohttp<4.0.0,>=3.8.3 in /usr/local/lib/python3.11/dist-packages (from langchain-community->-r requirements.txt (line 9)) (3.11.15)\n",
            "Requirement already satisfied: dataclasses-json<0.7,>=0.5.7 in /usr/local/lib/python3.11/dist-packages (from langchain-community->-r requirements.txt (line 9)) (0.6.7)\n",
            "Requirement already satisfied: pydantic-settings<3.0.0,>=2.4.0 in /usr/local/lib/python3.11/dist-packages (from langchain-community->-r requirements.txt (line 9)) (2.9.1)\n",
            "Requirement already satisfied: httpx-sse<1.0.0,>=0.4.0 in /usr/local/lib/python3.11/dist-packages (from langchain-community->-r requirements.txt (line 9)) (0.4.0)\n",
            "Requirement already satisfied: aiohappyeyeballs>=2.3.0 in /usr/local/lib/python3.11/dist-packages (from aiohttp<4.0.0,>=3.8.3->langchain-community->-r requirements.txt (line 9)) (2.6.1)\n",
            "Requirement already satisfied: aiosignal>=1.1.2 in /usr/local/lib/python3.11/dist-packages (from aiohttp<4.0.0,>=3.8.3->langchain-community->-r requirements.txt (line 9)) (1.3.2)\n",
            "Requirement already satisfied: attrs>=17.3.0 in /usr/local/lib/python3.11/dist-packages (from aiohttp<4.0.0,>=3.8.3->langchain-community->-r requirements.txt (line 9)) (25.3.0)\n",
            "Requirement already satisfied: frozenlist>=1.1.1 in /usr/local/lib/python3.11/dist-packages (from aiohttp<4.0.0,>=3.8.3->langchain-community->-r requirements.txt (line 9)) (1.7.0)\n",
            "Requirement already satisfied: multidict<7.0,>=4.5 in /usr/local/lib/python3.11/dist-packages (from aiohttp<4.0.0,>=3.8.3->langchain-community->-r requirements.txt (line 9)) (6.4.4)\n",
            "Requirement already satisfied: propcache>=0.2.0 in /usr/local/lib/python3.11/dist-packages (from aiohttp<4.0.0,>=3.8.3->langchain-community->-r requirements.txt (line 9)) (0.3.2)\n",
            "Requirement already satisfied: yarl<2.0,>=1.17.0 in /usr/local/lib/python3.11/dist-packages (from aiohttp<4.0.0,>=3.8.3->langchain-community->-r requirements.txt (line 9)) (1.20.1)\n",
            "Requirement already satisfied: jinja2 in /usr/local/lib/python3.11/dist-packages (from altair<6,>=4.0->streamlit->-r requirements.txt (line 1)) (3.1.6)\n",
            "Requirement already satisfied: narwhals>=1.14.2 in /usr/local/lib/python3.11/dist-packages (from altair<6,>=4.0->streamlit->-r requirements.txt (line 1)) (1.43.0)\n",
            "Requirement already satisfied: pyproject_hooks in /usr/local/lib/python3.11/dist-packages (from build>=1.0.3->chromadb->-r requirements.txt (line 6)) (1.2.0)\n",
            "Requirement already satisfied: marshmallow<4.0.0,>=3.18.0 in /usr/local/lib/python3.11/dist-packages (from dataclasses-json<0.7,>=0.5.7->langchain-community->-r requirements.txt (line 9)) (3.26.1)\n",
            "Requirement already satisfied: typing-inspect<1,>=0.4.0 in /usr/local/lib/python3.11/dist-packages (from dataclasses-json<0.7,>=0.5.7->langchain-community->-r requirements.txt (line 9)) (0.9.0)\n",
            "Requirement already satisfied: gitdb<5,>=4.0.1 in /usr/local/lib/python3.11/dist-packages (from gitpython!=3.1.19,<4,>=3.0.7->streamlit->-r requirements.txt (line 1)) (4.0.12)\n",
            "Requirement already satisfied: googleapis-common-protos<2.0.0,>=1.56.2 in /usr/local/lib/python3.11/dist-packages (from google-api-core->google-generativeai->-r requirements.txt (line 2)) (1.70.0)\n",
            "Requirement already satisfied: pyasn1-modules>=0.2.1 in /usr/local/lib/python3.11/dist-packages (from google-auth>=2.15.0->google-generativeai->-r requirements.txt (line 2)) (0.4.2)\n",
            "Requirement already satisfied: rsa<5,>=3.1.4 in /usr/local/lib/python3.11/dist-packages (from google-auth>=2.15.0->google-generativeai->-r requirements.txt (line 2)) (4.9.1)\n",
            "Requirement already satisfied: anyio in /usr/local/lib/python3.11/dist-packages (from httpx>=0.27.0->chromadb->-r requirements.txt (line 6)) (4.9.0)\n",
            "Requirement already satisfied: certifi in /usr/local/lib/python3.11/dist-packages (from httpx>=0.27.0->chromadb->-r requirements.txt (line 6)) (2025.6.15)\n",
            "Requirement already satisfied: httpcore==1.* in /usr/local/lib/python3.11/dist-packages (from httpx>=0.27.0->chromadb->-r requirements.txt (line 6)) (1.0.9)\n",
            "Requirement already satisfied: idna in /usr/local/lib/python3.11/dist-packages (from httpx>=0.27.0->chromadb->-r requirements.txt (line 6)) (3.10)\n",
            "Requirement already satisfied: h11>=0.16 in /usr/local/lib/python3.11/dist-packages (from httpcore==1.*->httpx>=0.27.0->chromadb->-r requirements.txt (line 6)) (0.16.0)\n",
            "Requirement already satisfied: jsonschema-specifications>=2023.03.6 in /usr/local/lib/python3.11/dist-packages (from jsonschema>=4.19.0->chromadb->-r requirements.txt (line 6)) (2025.4.1)\n",
            "Requirement already satisfied: referencing>=0.28.4 in /usr/local/lib/python3.11/dist-packages (from jsonschema>=4.19.0->chromadb->-r requirements.txt (line 6)) (0.36.2)\n",
            "Requirement already satisfied: rpds-py>=0.7.1 in /usr/local/lib/python3.11/dist-packages (from jsonschema>=4.19.0->chromadb->-r requirements.txt (line 6)) (0.25.1)\n",
            "Requirement already satisfied: six>=1.9.0 in /usr/local/lib/python3.11/dist-packages (from kubernetes>=28.1.0->chromadb->-r requirements.txt (line 6)) (1.17.0)\n",
            "Requirement already satisfied: python-dateutil>=2.5.3 in /usr/local/lib/python3.11/dist-packages (from kubernetes>=28.1.0->chromadb->-r requirements.txt (line 6)) (2.9.0.post0)\n",
            "Requirement already satisfied: websocket-client!=0.40.0,!=0.41.*,!=0.42.*,>=0.32.0 in /usr/local/lib/python3.11/dist-packages (from kubernetes>=28.1.0->chromadb->-r requirements.txt (line 6)) (1.8.0)\n",
            "Requirement already satisfied: requests-oauthlib in /usr/local/lib/python3.11/dist-packages (from kubernetes>=28.1.0->chromadb->-r requirements.txt (line 6)) (2.0.0)\n",
            "Requirement already satisfied: oauthlib>=3.2.2 in /usr/local/lib/python3.11/dist-packages (from kubernetes>=28.1.0->chromadb->-r requirements.txt (line 6)) (3.2.2)\n",
            "Requirement already satisfied: urllib3>=1.24.2 in /usr/local/lib/python3.11/dist-packages (from kubernetes>=28.1.0->chromadb->-r requirements.txt (line 6)) (2.4.0)\n",
            "Requirement already satisfied: durationpy>=0.7 in /usr/local/lib/python3.11/dist-packages (from kubernetes>=28.1.0->chromadb->-r requirements.txt (line 6)) (0.10)\n",
            "Requirement already satisfied: jsonpatch<2.0,>=1.33 in /usr/local/lib/python3.11/dist-packages (from langchain-core<1.0.0,>=0.3.58->langchain->-r requirements.txt (line 4)) (1.33)\n",
            "Requirement already satisfied: requests-toolbelt<2.0.0,>=1.0.0 in /usr/local/lib/python3.11/dist-packages (from langsmith<0.4,>=0.1.17->langchain->-r requirements.txt (line 4)) (1.0.0)\n",
            "Requirement already satisfied: zstandard<0.24.0,>=0.23.0 in /usr/local/lib/python3.11/dist-packages (from langsmith<0.4,>=0.1.17->langchain->-r requirements.txt (line 4)) (0.23.0)\n",
            "Requirement already satisfied: coloredlogs in /usr/local/lib/python3.11/dist-packages (from onnxruntime>=1.14.1->chromadb->-r requirements.txt (line 6)) (15.0.1)\n",
            "Requirement already satisfied: flatbuffers in /usr/local/lib/python3.11/dist-packages (from onnxruntime>=1.14.1->chromadb->-r requirements.txt (line 6)) (25.2.10)\n",
            "Requirement already satisfied: sympy in /usr/local/lib/python3.11/dist-packages (from onnxruntime>=1.14.1->chromadb->-r requirements.txt (line 6)) (1.13.1)\n",
            "Requirement already satisfied: importlib-metadata<8.8.0,>=6.0 in /usr/local/lib/python3.11/dist-packages (from opentelemetry-api>=1.2.0->chromadb->-r requirements.txt (line 6)) (8.7.0)\n",
            "Requirement already satisfied: opentelemetry-exporter-otlp-proto-common==1.34.1 in /usr/local/lib/python3.11/dist-packages (from opentelemetry-exporter-otlp-proto-grpc>=1.2.0->chromadb->-r requirements.txt (line 6)) (1.34.1)\n",
            "Requirement already satisfied: opentelemetry-proto==1.34.1 in /usr/local/lib/python3.11/dist-packages (from opentelemetry-exporter-otlp-proto-grpc>=1.2.0->chromadb->-r requirements.txt (line 6)) (1.34.1)\n",
            "Requirement already satisfied: opentelemetry-semantic-conventions==0.55b1 in /usr/local/lib/python3.11/dist-packages (from opentelemetry-sdk>=1.2.0->chromadb->-r requirements.txt (line 6)) (0.55b1)\n",
            "Requirement already satisfied: pytz>=2020.1 in /usr/local/lib/python3.11/dist-packages (from pandas<3,>=1.4.0->streamlit->-r requirements.txt (line 1)) (2025.2)\n",
            "Requirement already satisfied: tzdata>=2022.7 in /usr/local/lib/python3.11/dist-packages (from pandas<3,>=1.4.0->streamlit->-r requirements.txt (line 1)) (2025.2)\n",
            "Requirement already satisfied: backoff>=1.10.0 in /usr/local/lib/python3.11/dist-packages (from posthog>=2.4.0->chromadb->-r requirements.txt (line 6)) (2.2.1)\n",
            "Requirement already satisfied: distro>=1.5.0 in /usr/local/lib/python3.11/dist-packages (from posthog>=2.4.0->chromadb->-r requirements.txt (line 6)) (1.9.0)\n",
            "Requirement already satisfied: annotated-types>=0.6.0 in /usr/local/lib/python3.11/dist-packages (from pydantic->google-generativeai->-r requirements.txt (line 2)) (0.7.0)\n",
            "Requirement already satisfied: pydantic-core==2.33.2 in /usr/local/lib/python3.11/dist-packages (from pydantic->google-generativeai->-r requirements.txt (line 2)) (2.33.2)\n",
            "Requirement already satisfied: typing-inspection>=0.4.0 in /usr/local/lib/python3.11/dist-packages (from pydantic->google-generativeai->-r requirements.txt (line 2)) (0.4.1)\n",
            "Requirement already satisfied: charset-normalizer<4,>=2 in /usr/local/lib/python3.11/dist-packages (from requests<3,>=2.27->streamlit->-r requirements.txt (line 1)) (3.4.2)\n",
            "Requirement already satisfied: markdown-it-py>=2.2.0 in /usr/local/lib/python3.11/dist-packages (from rich>=10.11.0->chromadb->-r requirements.txt (line 6)) (3.0.0)\n",
            "Requirement already satisfied: pygments<3.0.0,>=2.13.0 in /usr/local/lib/python3.11/dist-packages (from rich>=10.11.0->chromadb->-r requirements.txt (line 6)) (2.19.1)\n",
            "Requirement already satisfied: greenlet>=1 in /usr/local/lib/python3.11/dist-packages (from SQLAlchemy<3,>=1.4->langchain->-r requirements.txt (line 4)) (3.2.3)\n",
            "Requirement already satisfied: huggingface-hub<1.0,>=0.16.4 in /usr/local/lib/python3.11/dist-packages (from tokenizers>=0.13.2->chromadb->-r requirements.txt (line 6)) (0.33.0)\n",
            "Requirement already satisfied: shellingham>=1.3.0 in /usr/local/lib/python3.11/dist-packages (from typer>=0.9.0->chromadb->-r requirements.txt (line 6)) (1.5.4)\n",
            "Requirement already satisfied: httptools>=0.6.3 in /usr/local/lib/python3.11/dist-packages (from uvicorn[standard]>=0.18.3->chromadb->-r requirements.txt (line 6)) (0.6.4)\n",
            "Requirement already satisfied: uvloop>=0.15.1 in /usr/local/lib/python3.11/dist-packages (from uvicorn[standard]>=0.18.3->chromadb->-r requirements.txt (line 6)) (0.21.0)\n",
            "Requirement already satisfied: watchfiles>=0.13 in /usr/local/lib/python3.11/dist-packages (from uvicorn[standard]>=0.18.3->chromadb->-r requirements.txt (line 6)) (1.1.0)\n",
            "Requirement already satisfied: websockets>=10.4 in /usr/local/lib/python3.11/dist-packages (from uvicorn[standard]>=0.18.3->chromadb->-r requirements.txt (line 6)) (15.0.1)\n",
            "Requirement already satisfied: httplib2<1.0.0,>=0.19.0 in /usr/local/lib/python3.11/dist-packages (from google-api-python-client->google-generativeai->-r requirements.txt (line 2)) (0.22.0)\n",
            "Requirement already satisfied: google-auth-httplib2<1.0.0,>=0.2.0 in /usr/local/lib/python3.11/dist-packages (from google-api-python-client->google-generativeai->-r requirements.txt (line 2)) (0.2.0)\n",
            "Requirement already satisfied: uritemplate<5,>=3.0.1 in /usr/local/lib/python3.11/dist-packages (from google-api-python-client->google-generativeai->-r requirements.txt (line 2)) (4.2.0)\n",
            "Requirement already satisfied: smmap<6,>=3.0.1 in /usr/local/lib/python3.11/dist-packages (from gitdb<5,>=4.0.1->gitpython!=3.1.19,<4,>=3.0.7->streamlit->-r requirements.txt (line 1)) (5.0.2)\n",
            "Requirement already satisfied: grpcio-status<2.0.0,>=1.33.2 in /usr/local/lib/python3.11/dist-packages (from google-api-core[grpc]!=2.0.*,!=2.1.*,!=2.10.*,!=2.2.*,!=2.3.*,!=2.4.*,!=2.5.*,!=2.6.*,!=2.7.*,!=2.8.*,!=2.9.*,<3.0.0dev,>=1.34.1->google-ai-generativelanguage==0.6.15->google-generativeai->-r requirements.txt (line 2)) (1.71.0)\n",
            "Requirement already satisfied: pyparsing!=3.0.0,!=3.0.1,!=3.0.2,!=3.0.3,<4,>=2.4.2 in /usr/local/lib/python3.11/dist-packages (from httplib2<1.0.0,>=0.19.0->google-api-python-client->google-generativeai->-r requirements.txt (line 2)) (3.2.3)\n",
            "Requirement already satisfied: filelock in /usr/local/lib/python3.11/dist-packages (from huggingface-hub<1.0,>=0.16.4->tokenizers>=0.13.2->chromadb->-r requirements.txt (line 6)) (3.18.0)\n",
            "Requirement already satisfied: fsspec>=2023.5.0 in /usr/local/lib/python3.11/dist-packages (from huggingface-hub<1.0,>=0.16.4->tokenizers>=0.13.2->chromadb->-r requirements.txt (line 6)) (2025.3.2)\n",
            "Requirement already satisfied: hf-xet<2.0.0,>=1.1.2 in /usr/local/lib/python3.11/dist-packages (from huggingface-hub<1.0,>=0.16.4->tokenizers>=0.13.2->chromadb->-r requirements.txt (line 6)) (1.1.3)\n",
            "Requirement already satisfied: zipp>=3.20 in /usr/local/lib/python3.11/dist-packages (from importlib-metadata<8.8.0,>=6.0->opentelemetry-api>=1.2.0->chromadb->-r requirements.txt (line 6)) (3.23.0)\n",
            "Requirement already satisfied: MarkupSafe>=2.0 in /usr/local/lib/python3.11/dist-packages (from jinja2->altair<6,>=4.0->streamlit->-r requirements.txt (line 1)) (3.0.2)\n",
            "Requirement already satisfied: jsonpointer>=1.9 in /usr/local/lib/python3.11/dist-packages (from jsonpatch<2.0,>=1.33->langchain-core<1.0.0,>=0.3.58->langchain->-r requirements.txt (line 4)) (3.0.0)\n",
            "Requirement already satisfied: mdurl~=0.1 in /usr/local/lib/python3.11/dist-packages (from markdown-it-py>=2.2.0->rich>=10.11.0->chromadb->-r requirements.txt (line 6)) (0.1.2)\n",
            "Requirement already satisfied: pyasn1<0.7.0,>=0.6.1 in /usr/local/lib/python3.11/dist-packages (from pyasn1-modules>=0.2.1->google-auth>=2.15.0->google-generativeai->-r requirements.txt (line 2)) (0.6.1)\n",
            "Requirement already satisfied: mypy-extensions>=0.3.0 in /usr/local/lib/python3.11/dist-packages (from typing-inspect<1,>=0.4.0->dataclasses-json<0.7,>=0.5.7->langchain-community->-r requirements.txt (line 9)) (1.1.0)\n",
            "Requirement already satisfied: sniffio>=1.1 in /usr/local/lib/python3.11/dist-packages (from anyio->httpx>=0.27.0->chromadb->-r requirements.txt (line 6)) (1.3.1)\n",
            "Requirement already satisfied: humanfriendly>=9.1 in /usr/local/lib/python3.11/dist-packages (from coloredlogs->onnxruntime>=1.14.1->chromadb->-r requirements.txt (line 6)) (10.0)\n",
            "Requirement already satisfied: mpmath<1.4,>=1.1.0 in /usr/local/lib/python3.11/dist-packages (from sympy->onnxruntime>=1.14.1->chromadb->-r requirements.txt (line 6)) (1.3.0)\n"
          ]
        }
      ]
    },
    {
      "cell_type": "markdown",
      "source": [
        "##Section 1: Imports and Environment Setup"
      ],
      "metadata": {
        "id": "FOvuNWAcg5N9"
      }
    },
    {
      "cell_type": "code",
      "source": [
        "import os\n",
        "from dotenv import load_dotenv\n",
        "from PyPDF2 import PdfReader\n",
        "from langchain.text_splitter import RecursiveCharacterTextSplitter\n",
        "from langchain_google_genai import GoogleGenerativeAIEmbeddings, ChatGoogleGenerativeAI\n",
        "from langchain.vectorstores import FAISS\n",
        "from langchain.chains import ConversationalRetrievalChain\n",
        "from langchain.memory import ConversationBufferMemory\n",
        "from langchain.prompts import PromptTemplate\n",
        "import google.generativeai as genai"
      ],
      "metadata": {
        "id": "gOUcYDtmgslE"
      },
      "execution_count": null,
      "outputs": []
    },
    {
      "cell_type": "markdown",
      "source": [
        "\n",
        "**Loading Environment Variables and Configuring Google GenAI**\n",
        "\n",
        "It's crucial to keep sensitive information like API keys out of your main code. We'll use a .env file for this and load it using python-dotenv. Then, we'll configure the Google Generative AI SDK with our API key.\n",
        "\n"
      ],
      "metadata": {
        "id": "pFGTvvqGhTxM"
      }
    },
    {
      "cell_type": "code",
      "source": [
        "# Load environment variables from .env file (especially the Google API Key)\n",
        "load_dotenv() # This function searches for a .env file in the current directory and loads any key-value pairs found into the environment variables.\n",
        "\n",
        "# Configure Google GenAI with API key\n",
        "google_api_key = os.getenv(\"GOOGLE_API_KEY\") # Retrieves the value of the \"GOOGLE_API_KEY\" environment variable.\n",
        "if not google_api_key: # Checks if the API key was successfully loaded.\n",
        "    raise ValueError(\"Please set the GOOGLE_API_KEY in a .env file.\") # If not found, raises an error instructing the user to set it.\n",
        "else:\n",
        "    genai.configure(api_key=google_api_key) # Configures the Google Generative AI library with the retrieved API key. This is essential for authentication.\n"
      ],
      "metadata": {
        "id": "LCIRgw-Xgshw"
      },
      "execution_count": null,
      "outputs": []
    },
    {
      "cell_type": "markdown",
      "source": [
        "**Setting Model and Chunking Parameters**\n",
        "\n",
        "These parameters influence how our LLM behaves and how our documents are processed. temperature controls the creativity of the LLM, while chunk_size and chunk_overlap determine how our PDF text is divided for embedding and retrieval."
      ],
      "metadata": {
        "id": "PvYCypgqhl-o"
      }
    },
    {
      "cell_type": "code",
      "source": [
        "# Set temperature and chunking configuration\n",
        "\n",
        "temperature = 0.3 # Controls the randomness/creativity of the LLM's responses. Lower values (e.g., 0.1-0.3) make the output more deterministic and factual.\n",
        "chunk_size = 1000 # The maximum size (in characters) of each text chunk after splitting.\n",
        "chunk_overlap = 300 # The number of characters that consecutive chunks will overlap. This helps maintain context across chunk boundaries.\n"
      ],
      "metadata": {
        "id": "fo6tpctkgseL"
      },
      "execution_count": null,
      "outputs": []
    },
    {
      "cell_type": "markdown",
      "source": [
        "## Section 2: Load and Chunk PDFs"
      ],
      "metadata": {
        "id": "DQLj4yfoh-ZN"
      }
    },
    {
      "cell_type": "markdown",
      "source": [
        "**Defining the get_text_chunks_with_metadata Function**\n",
        "\n",
        "\n",
        "This function will read specified PDF files, extract text page by page, and then use RecursiveCharacterTextSplitter to divide the text into chunks. Importantly, it also attaches metadata (source file, page number, chunk ID) to each chunk, which is useful for tracing answers back to their origin."
      ],
      "metadata": {
        "id": "onKvggXRiBj4"
      }
    },
    {
      "cell_type": "code",
      "source": [
        "# Define a function to read and chunk text from PDFs\n",
        "def get_text_chunks_with_metadata(filepaths, chunk_size, chunk_overlap):\n",
        "    \"\"\"\n",
        "    Reads text from multiple PDF files, splits the text into chunks, and adds metadata to each chunk.\n",
        "\n",
        "    Args:\n",
        "        filepaths (list): A list of paths to the PDF files.\n",
        "        chunk_size (int): The desired maximum size of each text chunk.\n",
        "        chunk_overlap (int): The number of characters to overlap between consecutive chunks.\n",
        "\n",
        "    Returns:\n",
        "        list: A list of dictionaries, where each dictionary contains a 'text' key (the chunk content)\n",
        "              and a 'metadata' key (a dictionary with 'source', 'page', and 'chunk_id').\n",
        "    \"\"\"\n",
        "    splitter = RecursiveCharacterTextSplitter(chunk_size=chunk_size, chunk_overlap=chunk_overlap) # Initializes the text splitter with specified chunk size and overlap.\n",
        "    all_chunks = [] # An empty list to store all processed chunks from all PDFs.\n",
        "\n",
        "    for filepath in filepaths: # Iterates through each PDF file path provided.\n",
        "        reader = PdfReader(filepath) # Creates a PdfReader object to read the PDF file.\n",
        "        source_name = os.path.basename(filepath).replace(\".pdf\", \"\") # Extracts the base name of the file (e.g., \"document.pdf\" becomes \"document\") for source metadata.\n",
        "        for i, page in enumerate(reader.pages): # Iterates through each page in the PDF document, along with its index.\n",
        "            text = page.extract_text() # Extracts all text content from the current page.\n",
        "            if text: # Checks if text was successfully extracted from the page.\n",
        "                chunks = splitter.split_text(text) # Splits the extracted page text into smaller chunks using the defined splitter.\n",
        "                for j, chunk in enumerate(chunks): # Iterates through each chunk generated from the current page.\n",
        "                    all_chunks.append({ # Appends a dictionary to the all_chunks list.\n",
        "                        \"text\": chunk, # The actual text content of the chunk.\n",
        "                        \"metadata\": {\"source\": source_name, \"page\": i + 1, \"chunk_id\": j} # Metadata including the original file name, page number (1-indexed), and chunk's index on that page.\n",
        "                    })\n",
        "    return all_chunks # Returns the complete list of text chunks with their associated metadata."
      ],
      "metadata": {
        "id": "8C-usaFSgsaa"
      },
      "execution_count": null,
      "outputs": []
    },
    {
      "cell_type": "markdown",
      "source": [
        "##Section 3: Create Vector Store from Chunks"
      ],
      "metadata": {
        "id": "V84ZVd1jiYr-"
      }
    },
    {
      "cell_type": "markdown",
      "source": [
        "Once we have our text chunks, we need a way to efficiently search through them to find the most relevant ones for a given query. This is where embeddings and vector stores come in.\n",
        "\n",
        "Embeddings: These are numerical representations of text. Models like Google's embedding-001 convert words, sentences, or chunks of text into a list of numbers (a vector) where semantically similar texts have vectors that are numerically \"close\" to each other in a multi-dimensional space.\n",
        "\n",
        "Vector Store: This is a database designed to store these numerical embeddings and perform fast similarity searches. When you ask a question, your question is also converted into an embedding, and the vector store quickly finds the chunks whose embeddings are most similar to your question's embedding. We'll use FAISS for this."
      ],
      "metadata": {
        "id": "eY5bY0SMibU5"
      }
    },
    {
      "cell_type": "markdown",
      "source": [
        "**Defining the get_vector_store Function**\n",
        "\n",
        "This function takes our list of text chunks, generates embeddings for each, and then stores them in a FAISS vector database. It also saves this database locally for later use, so we don't have to re-process PDFs every time."
      ],
      "metadata": {
        "id": "0KvHxsajimZS"
      }
    },
    {
      "cell_type": "code",
      "source": [
        "# Define a function to create a vector store from text chunks\n",
        "def get_vector_store(chunks):\n",
        "    \"\"\"\n",
        "    Generates embeddings for given text chunks and stores them in a FAISS vector database.\n",
        "    The database is also saved locally for persistence.\n",
        "\n",
        "    Args:\n",
        "        chunks (list): A list of dictionaries, where each dictionary contains a 'text' key\n",
        "                       (the chunk content) and a 'metadata' key.\n",
        "\n",
        "    Returns:\n",
        "        FAISS: The FAISS vector database containing the chunk embeddings and metadata.\n",
        "    \"\"\"\n",
        "    texts = [c[\"text\"] for c in chunks] # Extracts just the text content from each chunk dictionary into a list.\n",
        "    metadatas = [c[\"metadata\"] for c in chunks] # Extracts just the metadata dictionary from each chunk dictionary into a list.\n",
        "    embeddings = GoogleGenerativeAIEmbeddings(model=\"models/embedding-001\") # Initializes the Google Generative AI embeddings model. This model converts text into numerical vectors.\n",
        "    db = FAISS.from_texts(texts, embedding=embeddings, metadatas=metadatas) # Creates a FAISS vector database from the text chunks, their embeddings, and associated metadata.\n",
        "                                                                            # FAISS will index these embeddings for fast similarity search.\n",
        "    db.save_local(\"faiss_index\") # Saves the created FAISS index to a local directory named \"faiss_index\". This allows us to load it later without re-embedding.\n",
        "    return db # Returns the FAISS database object.\n"
      ],
      "metadata": {
        "id": "SWY4h9mXgsXJ"
      },
      "execution_count": null,
      "outputs": []
    },
    {
      "cell_type": "markdown",
      "source": [
        "##Section 4: Summarize PDF Text"
      ],
      "metadata": {
        "id": "lTb2Iouei59H"
      }
    },
    {
      "cell_type": "markdown",
      "source": [
        "**Cell 4.1: Defining the summarize_pdf Function**\n",
        "\n",
        "This function reads the entire text from a given PDF, creates a prompt asking for a summary, and then uses a ChatGoogleGenerativeAI model to generate a concise summary."
      ],
      "metadata": {
        "id": "Y-y7_j97i-mi"
      }
    },
    {
      "cell_type": "code",
      "source": [
        "# Define a function to summarize the entire text of a PDF\n",
        "def summarize_pdf(filepath):\n",
        "    \"\"\"\n",
        "    Reads the entire text from a PDF and uses an LLM to generate a summary.\n",
        "\n",
        "    Args:\n",
        "        filepath (str): The path to the PDF file to summarize.\n",
        "\n",
        "    Returns:\n",
        "        str: A summary of the PDF content.\n",
        "    \"\"\"\n",
        "    model = ChatGoogleGenerativeAI(model=\"gemini-2.0-flash\", temperature=temperature) # Initializes a Google Chat Generative AI model for summarization.\n",
        "                                                                                       # Uses \"gemini-2.0-flash\" for quick responses and the defined temperature.\n",
        "    reader = PdfReader(filepath) # Creates a PdfReader object to read the PDF.\n",
        "    full_text = \"\" # Initializes an empty string to accumulate all text from the PDF.\n",
        "    for page in reader.pages: # Iterates through each page in the PDF.\n",
        "        full_text += page.extract_text() if page.extract_text() else \"\" # Extracts text from the current page and appends it to full_text. Handles cases where a page might have no extractable text.\n",
        "\n",
        "    prompt = PromptTemplate( # Creates a LangChain PromptTemplate.\n",
        "        input_variables=[\"document\"], # Defines the input variable expected by this prompt (the document content).\n",
        "        template=\"Summarize this document in less than 100 words:\\n{document}\" # The template string that will be sent to the LLM, with a placeholder for the document.\n",
        "    )\n",
        "    # Invokes the LLM with the formatted prompt (document content inserted) and returns the generated summary content.\n",
        "    return model.invoke(prompt.format(document=full_text)).content\n"
      ],
      "metadata": {
        "id": "uRxrLOgzgsRE"
      },
      "execution_count": null,
      "outputs": []
    },
    {
      "cell_type": "markdown",
      "source": [
        "##Section 5: Load Conversational QA Chain\n",
        "\n",
        "This is the core of our RAG system! The conversational QA chain combines several components:\n",
        "\n",
        "Retriever: An interface to our vector store that fetches the most relevant chunks based on a given query.\n",
        "\n",
        "Memory: Stores the history of the conversation, allowing the LLM to understand context from previous turns.\n",
        "\n",
        "LLM: The Large Language Model (Gemini 2.0 Flash) that generates the answer.\n",
        "\n",
        "Prompt Template: A structured way to tell the LLM how to combine the retrieved context, chat history, and current question to formulate a comprehensive answer."
      ],
      "metadata": {
        "id": "Me0LyCxjjTCA"
      }
    },
    {
      "cell_type": "markdown",
      "source": [
        "**Defining the load_qa_chain Function**\n",
        "\n",
        "This function sets up the entire conversational retrieval chain. It configures the retriever, initializes conversation memory, selects the LLM, and defines a custom prompt to guide the LLM's response based on retrieved context and chat history."
      ],
      "metadata": {
        "id": "AKzWn9WUjcDL"
      }
    },
    {
      "cell_type": "code",
      "source": [
        "# Define a function to load the Conversational Question Answering Chain\n",
        "def load_qa_chain(db):\n",
        "    \"\"\"\n",
        "    Sets up and returns a LangChain ConversationalRetrievalChain for question answering.\n",
        "    This chain uses a retriever to fetch relevant documents, maintains conversation history,\n",
        "    and uses an LLM to generate answers based on the retrieved context and chat history.\n",
        "\n",
        "    Args:\n",
        "        db (FAISS): The FAISS vector database to be used for document retrieval.\n",
        "\n",
        "    Returns:\n",
        "        ConversationalRetrievalChain: The configured LangChain conversational QA chain.\n",
        "    \"\"\"\n",
        "    retriever = db.as_retriever(search_kwargs={\"k\": 32}) # Converts the FAISS database into a retriever.\n",
        "                                                         # search_kwargs={\"k\": 32} specifies that the retriever should fetch the top 32 most relevant document chunks for a given query.\n",
        "    memory = ConversationBufferMemory(memory_key=\"chat_history\", return_messages=True, output_key='answer') # Initializes a ConversationBufferMemory.\n",
        "                                                                                                        # memory_key=\"chat_history\": Specifies the key in the chain's input dictionary where chat history will be stored.\n",
        "                                                                                                        # return_messages=True: Ensures the chat history is returned as a list of message objects.\n",
        "                                                                                                        # output_key='answer': Specifies the key for the chain's output, allowing memory to track the LLM's answer.\n",
        "    model = ChatGoogleGenerativeAI(model=\"gemini-2.0-flash\", temperature=temperature) # Initializes the Google Chat Generative AI model (Gemini 2.0 Flash) for generating answers.\n",
        "\n",
        "    qa_prompt = PromptTemplate( # Defines a custom prompt template for the conversational retrieval chain.\n",
        "        template=\"\"\"\n",
        "        You are an AI assistant for question-answering over documents. # Instructions for the AI's persona.\n",
        "        Use the retrieved context to answer comprehensively. # Emphasizes using the provided context.\n",
        "        If a question covers multiple entities, include all of them. # Specific instruction for comprehensive answers.\n",
        "        If data is missing, say: 'I cannot find the answer to this question in the provided documents.' # Instruction for handling unanswerable questions.\n",
        "\n",
        "        Chat History: # Placeholder for the conversation history.\n",
        "        {chat_history}\n",
        "\n",
        "        Context: # Placeholder for the retrieved document chunks.\n",
        "        {context}\n",
        "\n",
        "        Question: {question} # Placeholder for the current user question.\n",
        "        Answer: # The AI's answer will follow this.\n",
        "        \"\"\",\n",
        "        input_variables=[\"question\", \"context\", \"chat_history\"] # Defines the variables that will be populated in the template.\n",
        "    )\n",
        "\n",
        "    return ConversationalRetrievalChain.from_llm( # Creates and returns a ConversationalRetrievalChain.\n",
        "        llm=model, # The Language Model to use for generating answers.\n",
        "        retriever=retriever, # The document retriever that provides context.\n",
        "        memory=memory, # The memory component that stores and manages chat history.\n",
        "        return_source_documents=True, # Ensures that the chain returns the source documents from which the answer was derived.\n",
        "        combine_docs_chain_kwargs={\"prompt\": qa_prompt} # Passes our custom prompt template to the internal chain that combines documents and generates the final answer.\n",
        "    )"
      ],
      "metadata": {
        "id": "q6es1083gsEz"
      },
      "execution_count": null,
      "outputs": []
    },
    {
      "cell_type": "markdown",
      "source": [
        "## Section 6: Highlight Relevant Sources\n",
        "\n",
        "One of the great advantages of RAG is the ability to show where the answer came from. This function takes the LLM's answer and the source documents retrieved, and then uses another LLM call to intelligently highlight the exact sentences within those source documents that were most relevant to forming the answer. This provides transparency and allows users to verify information."
      ],
      "metadata": {
        "id": "MmhlniAsjvOT"
      }
    },
    {
      "cell_type": "markdown",
      "source": [
        "**6.1: Defining the highlight_relevant_sources_full_chunk Function**\n",
        "\n",
        "This function formats the source documents and the LLM's answer into a specific prompt. It then sends this to an LLM (Gemini 2.0 Flash) with instructions to return the full text of relevant chunks, with the supporting sentences highlighted. This is a powerful way to make the RAG system more interpretable."
      ],
      "metadata": {
        "id": "wAkgPwCZj7Cl"
      }
    },
    {
      "cell_type": "code",
      "source": [
        "# Define a function to highlight relevant sentences within the full text of source documents\n",
        "def highlight_relevant_sources_full_chunk(answer, source_documents):\n",
        "    \"\"\"\n",
        "    Uses an LLM to identify and highlight relevant sentences within the full text of\n",
        "    the source document chunks that were used to generate a given answer.\n",
        "    It returns the full chunk text with highlighted sentences and source metadata.\n",
        "\n",
        "    Args:\n",
        "        answer (str): The answer generated by the QA chain.\n",
        "        source_documents (list): A list of LangChain Document objects, each containing\n",
        "                                 page_content (the chunk text) and metadata.\n",
        "\n",
        "    Returns:\n",
        "        str: A formatted string containing the relevant source chunks with highlighted\n",
        "             sentences, separated by clear headers.\n",
        "    \"\"\"\n",
        "    model = ChatGoogleGenerativeAI(model=\"gemini-2.0-flash\", temperature=0.2) # Initializes a Google Chat Generative AI model (Gemini 2.0 Flash) for highlighting.\n",
        "                                                                               # A slightly lower temperature (0.2) is used here to ensure more precise highlighting without too much creativity.\n",
        "\n",
        "    # Formats each source document into a string with its metadata and content, separated by double newlines.\n",
        "    formatted_chunks = \"\\n\\n\".join(\n",
        "        f\"[Source: {doc.metadata['source']} | Page: {doc.metadata['page']} | Chunk ID: {doc.metadata['chunk_id']}]\\n{doc.page_content}\"\n",
        "        for doc in source_documents # Iterates through each source document provided.\n",
        "    )\n",
        "\n",
        "    prompt = PromptTemplate( # Defines a custom prompt template for the highlighting task.\n",
        "        input_variables=[\"answer\", \"context\"], # Defines the input variables: the answer and the formatted source chunks (context).\n",
        "        template=\"\"\"\n",
        "You are given an answer and a set of document chunks from PDFs.\n",
        "\n",
        "Task:\n",
        "- For each chunk that supports the answer:\n",
        "  - Return the full chunk.\n",
        "  - Highlight the relevant sentences using **double asterisks**.\n",
        "  - Prepend the source info like:\n",
        "    ════════════════════════════════════════════════════════════════\n",
        "    📄 Source: <source> | Page: <page>  | Chunk ID: <chunk_id>\n",
        "    ════════════════════════════════════════════════════════════════\n",
        "\n",
        "- Skip chunks that are not relevant.\n",
        "- Add a line: ────────────────────────────────────────────── after each source block.\n",
        "\n",
        "Answer:\n",
        "{answer}\n",
        "\n",
        "Document Chunks:\n",
        "{context}\n",
        "\n",
        "Output format:\n",
        "\n",
        "════════════════════════════════════════════════════════════════\n",
        "📄 Source: <source> | Page: <page> | Chunk ID: <chunk_id>\n",
        "════════════════════════════════════════════════════════════════\n",
        "<Full Chunk with **highlighted** text>\n",
        "\n",
        "────────────────────────────────────────────────────────────────\n",
        "\"\"\" # Detailed instructions for the LLM on how to format the output, including highlighting and separators.\n",
        "    )\n",
        "\n",
        "    # Invokes the LLM with the formatted prompt (answer and context inserted) and returns the generated content.\n",
        "    response = model.invoke(prompt.format(answer=answer, context=formatted_chunks))\n",
        "    return response.content # Returns the LLM's response, which contains the highlighted source chunks.\n"
      ],
      "metadata": {
        "id": "WKJm7JjjiPP1"
      },
      "execution_count": null,
      "outputs": []
    },
    {
      "cell_type": "markdown",
      "source": [
        "## Section 7: Example Run - Load PDFs, Create Index, Chat\n"
      ],
      "metadata": {
        "id": "mQYxbLMGkY5L"
      }
    },
    {
      "cell_type": "markdown",
      "source": [
        "**Load PDFs and Initial Summaries**"
      ],
      "metadata": {
        "id": "V5CKh6E3kq1r"
      }
    },
    {
      "cell_type": "code",
      "source": [
        "# load  pdfs\n",
        "pdf_1 = \"MH_Budget_Analysis_2025-26.pdf\"\n",
        "pdf_2 = \"Gujarat_Budget_Analysis_2025-26.pdf\"\n",
        "pdf_3 = \"Black hole mystry in the universe.pdf\"\n",
        "pdf_paths = [pdf_1, pdf_2, pdf_3]\n"
      ],
      "metadata": {
        "id": "-nUQIxE65pd_"
      },
      "execution_count": null,
      "outputs": []
    },
    {
      "cell_type": "code",
      "source": [
        "# --- Summarize PDFs ---\n",
        "print(\"--- PDF Summaries ---\") # Prints a header for the summaries section.\n",
        "for pdf_path in pdf_paths: # Iterates through each PDF path in the list.\n",
        "    summary = summarize_pdf(pdf_path) # Calls the summarize_pdf function to get a summary for the current PDF.\n",
        "    print(f\"\\nSummary of {os.path.basename(pdf_path).replace('.pdf', '')}:\") # Prints the name of the PDF being summarized.\n",
        "    print(summary) # Prints the generated summary.\n",
        "print(\"\\n\" + \"=\"*50 + \"\\n\") # Prints a separator for better readability.\n"
      ],
      "metadata": {
        "id": "RKrDBJTOiPEz",
        "colab": {
          "base_uri": "https://localhost:8080/"
        },
        "outputId": "6617bca5-32f6-4bd9-acd5-3b019cd57a9a"
      },
      "execution_count": null,
      "outputs": [
        {
          "output_type": "stream",
          "name": "stdout",
          "text": [
            "--- PDF Summaries ---\n",
            "\n",
            "Summary of MH_Budget_Analysis_2025-26:\n",
            "The Maharashtra budget for 2025-26, presented by Finance Minister Ajit Pawar, projects a GSDP growth of 9%. Expenditure is estimated at Rs 7,00,020 crore, with receipts of Rs 5,63,786 crore. The budget targets a fiscal deficit of 2.8% of GSDP and a revenue deficit of 0.9% of GSDP. Policy highlights include a new industrial policy aiming for Rs 40 lakh crore in investments and 50 lakh jobs, development of international business centers, and a long-term road development plan. Motor vehicle tax will increase, and affordable power initiatives are planned.\n",
            "\n",
            "Summary of Gujarat_Budget_Analysis_2025-26:\n",
            "The Gujarat budget for 2025-26 projects a GSDP growth of 12%. Expenditure is estimated to increase by 17%, funded by receipts and borrowings. A revenue surplus of 0.7% of GSDP is expected, with a fiscal deficit targeted at 2% of GSDP.\n",
            "\n",
            "Policy highlights include expanding food security for laborers, identifying six growth hubs, reducing stamp duties, and a uniform motor vehicle tax. Assistance to the disabled will be expanded, and tourism infrastructure will be improved. Gujarat's GSDP is estimated to grow by 8.9% in 2023-24.\n",
            "\n",
            "Summary of Black hole mystry in the universe:\n",
            "This article explores the fascinating topic of black holes, covering their formation, properties, and significance in the universe. It discusses the historical background, different types of black holes (stellar, intermediate, supermassive, primordial, miniature), and their formation mechanisms. The article also delves into the various parts of a black hole, including the singularity, event horizon, accretion disk, and ergosphere. It addresses common misconceptions, such as whether black holes \"suck\" objects in, and explores the hypothetical experience of falling into one. Finally, it touches upon related concepts like white holes and eternally collapsing objects.\n",
            "\n",
            "==================================================\n",
            "\n"
          ]
        }
      ]
    },
    {
      "cell_type": "markdown",
      "source": [
        "**Step 1: Chunking the PDFs**\n",
        "\n",
        "We call our get_text_chunks_with_metadata function to process the PDFs into chunks. This prepares our data for embedding and storage in the vector database."
      ],
      "metadata": {
        "id": "AoftyaWYk9OH"
      }
    },
    {
      "cell_type": "code",
      "source": [
        "# Step 1: Chunk PDFs\n",
        "print(\"Step 1: Chunking PDFs...\") # Informative print statement.\n",
        "chunks = get_text_chunks_with_metadata(pdf_paths, chunk_size, chunk_overlap) # Calls the function to get all text chunks with metadata from the specified PDFs.\n",
        "print(f\"Generated {len(chunks)} chunks.\") # Prints the total number of chunks generated."
      ],
      "metadata": {
        "id": "mxJqOTp1kWG5",
        "colab": {
          "base_uri": "https://localhost:8080/"
        },
        "outputId": "fa53aa20-8d17-43aa-f4f6-7a7ac35ff349"
      },
      "execution_count": null,
      "outputs": [
        {
          "output_type": "stream",
          "name": "stdout",
          "text": [
            "Step 1: Chunking PDFs...\n",
            "Generated 132 chunks.\n"
          ]
        }
      ]
    },
    {
      "cell_type": "markdown",
      "source": [
        "**Step 2: Building and Saving the Vector Store**\n",
        "\n",
        "Using the generated chunks, we create and populate our FAISS vector store. This step involves generating embeddings for each chunk and indexing them. The vector store is then saved locally."
      ],
      "metadata": {
        "id": "YMBKocgWlLbF"
      }
    },
    {
      "cell_type": "code",
      "source": [
        "# Step 2: Build and save vector store\n",
        "print(\"Step 2: Building and saving vector store (FAISS index)...\") # Informative print statement.\n",
        "vector_store = get_vector_store(chunks) # Calls the function to create a FAISS vector store from the chunks and save it locally.\n",
        "print(\"Vector store created and saved as 'faiss_index'.\") # Confirmation message."
      ],
      "metadata": {
        "id": "9eTRMpMGkWDD",
        "colab": {
          "base_uri": "https://localhost:8080/"
        },
        "outputId": "46fbeb43-2541-4366-c28a-9496d150e631"
      },
      "execution_count": null,
      "outputs": [
        {
          "output_type": "stream",
          "name": "stdout",
          "text": [
            "Step 2: Building and saving vector store (FAISS index)...\n",
            "Vector store created and saved as 'faiss_index'.\n"
          ]
        }
      ]
    },
    {
      "cell_type": "markdown",
      "source": [
        "**Step 3: Loading the Vector Store (if needed)**"
      ],
      "metadata": {
        "id": "6-6eyiB4lV3q"
      }
    },
    {
      "cell_type": "code",
      "source": [
        "# Step 3: Load vector store (needed if not passing 'vector_store' directly or if loading from a previous run)\n",
        "print(\"Loading vector store from 'faiss_index'...\") # Informative print statement.\n",
        "embeddings = GoogleGenerativeAIEmbeddings(model=\"models/embedding-001\") # Re-initializes the embeddings model, which is required to load the FAISS index.\n",
        "# Loads the FAISS index from the local directory.\n",
        "# allow_dangerous_deserialization=True is used to allow deserialization of FAISS index, which might contain custom objects.\n",
        "loaded_db = FAISS.load_local(\"faiss_index\", embeddings, allow_dangerous_deserialization=True)\n",
        "print(\"Vector store loaded successfully.\") # Confirmation message.\n"
      ],
      "metadata": {
        "id": "Jy92-0_vkV-4",
        "colab": {
          "base_uri": "https://localhost:8080/"
        },
        "outputId": "ec6d4bce-5b55-4bb8-9bce-80978aca9b8a"
      },
      "execution_count": null,
      "outputs": [
        {
          "output_type": "stream",
          "name": "stdout",
          "text": [
            "Loading vector store from 'faiss_index'...\n",
            "Vector store loaded successfully.\n"
          ]
        }
      ]
    },
    {
      "cell_type": "markdown",
      "source": [
        "**Step 4: Initializing the QA Chain**\n"
      ],
      "metadata": {
        "id": "EuIki-qTlpTU"
      }
    },
    {
      "cell_type": "code",
      "source": [
        "# Step 4: Initialize QA chain\n",
        "print(\"Step 4: Initializing Conversational QA Chain...\") # Informative print statement.\n",
        "qa_chain = load_qa_chain(loaded_db) # Calls the function to set up the conversational retrieval chain using the loaded FAISS database.\n",
        "print(\"QA Chain initialized.\") # Confirmation message."
      ],
      "metadata": {
        "id": "t7dxYAS_kV60",
        "colab": {
          "base_uri": "https://localhost:8080/"
        },
        "outputId": "32af0bbc-c90b-47e4-960a-2a46482d21ec"
      },
      "execution_count": null,
      "outputs": [
        {
          "output_type": "stream",
          "name": "stdout",
          "text": [
            "Step 4: Initializing Conversational QA Chain...\n",
            "QA Chain initialized.\n"
          ]
        },
        {
          "output_type": "stream",
          "name": "stderr",
          "text": [
            "/tmp/ipython-input-8-703232409.py:16: LangChainDeprecationWarning: Please see the migration guide at: https://python.langchain.com/docs/versions/migrating_memory/\n",
            "  memory = ConversationBufferMemory(memory_key=\"chat_history\", return_messages=True, output_key='answer') # Initializes a ConversationBufferMemory.\n"
          ]
        }
      ]
    },
    {
      "cell_type": "markdown",
      "source": [
        "**Step 5: Asking a Sample Question and Getting Response**"
      ],
      "metadata": {
        "id": "Ffd00M90mPyK"
      }
    },
    {
      "cell_type": "markdown",
      "source": [
        "**Question 1**\n",
        "\n",
        "questions on Gujrat bugdet pdf"
      ],
      "metadata": {
        "id": "lFM272CwnTvi"
      }
    },
    {
      "cell_type": "code",
      "source": [
        "question = \"What is Gujarat's projected fiscal deficit as a percentage of GSDP for FY 2025–26?\"\n",
        "response = qa_chain.invoke({\"question\": question}) # Invokes the QA chain with the question. The chain processes the question, retrieves context, and generates an answer.\n",
        "print(\"\\nAnswer:\")\n",
        "print(response[\"answer\"])"
      ],
      "metadata": {
        "id": "n7tOJ8homXsM",
        "colab": {
          "base_uri": "https://localhost:8080/"
        },
        "outputId": "abdcaca2-f7a7-49a9-cc03-e1191a485eaf"
      },
      "execution_count": null,
      "outputs": [
        {
          "output_type": "stream",
          "name": "stdout",
          "text": [
            "\n",
            "Answer:\n",
            "The fiscal deficit for 2025-26 is targeted at 2% of GSDP (Rs 58,397 crore), which is higher than the revised estimates for 2024-25 (1.9% of GSDP).\n"
          ]
        }
      ]
    },
    {
      "cell_type": "code",
      "source": [
        "# Display sources with highlighted snippets\n",
        "print(\"\\n--- Full Sources with Highlighted Snippets ---\") # Prints a header for the sources section.\n",
        "# Calls the highlighting function, passing the generated answer and the source documents returned by the QA chain.\n",
        "highlighted_full_chunks = highlight_relevant_sources_full_chunk(response[\"answer\"], response[\"source_documents\"])\n",
        "print(highlighted_full_chunks) # Prints the formatted string containing highlighted source chunks.\n"
      ],
      "metadata": {
        "id": "2-dALVoYmXgj",
        "colab": {
          "base_uri": "https://localhost:8080/"
        },
        "outputId": "b3be5162-90f6-49e6-cea5-c0c580841ad2"
      },
      "execution_count": null,
      "outputs": [
        {
          "output_type": "stream",
          "name": "stdout",
          "text": [
            "\n",
            "--- Full Sources with Highlighted Snippets ---\n",
            "```text\n",
            "════════════════════════════════════════════════════════════════\n",
            "📄 Source: Gujarat_Budget_Analysis_2025-26 | Page: 2 | Chunk ID: 1\n",
            "════════════════════════════════════════════════════════════════\n",
            " **Fiscal deficit  for 202 5-26 is targeted at 2% of GSDP (Rs 58,397  crore) , higher  than the revised estimates for 202 4-25 (1.9% of GSDP)** . For 2025-26, central government has permitted fiscal deficit upto 3% of \n",
            "GSDP to states.  Additional borrowing space of 0.5% of GSDP will be available on undertaking certain \n",
            "power sector reforms.   \n",
            "Table 1: Budget 2025-26 - Key figu res (in Rs crore ) \n",
            "Items  2023-24 \n",
            "Actuals  2024-25 \n",
            "Budgeted  2024-25 \n",
            "Revised  % change from \n",
            "BE 2 4-25 to RE \n",
            "24-25 2025-26 \n",
            "Budgeted  % change from \n",
            "RE 2 4-25 to BE \n",
            "25-26 \n",
            "Total Expenditure  2,73,768  3,28,447  3,12,988  -5% 3,65,746  17% \n",
            "(-) Repayment of debt  26,136  29,085 29,086  0% 33,596  16% \n",
            "Net Expenditure (E)  2,47,632  2,99,362  2,83,902  -5% 3,32,150  17% \n",
            "Total Receipts  2,64,530  3,24,945  3,09,332  -5% 3,63,254  17% \n",
            "(-) Borrowings  40,392  77,500  76,001  -2% 89,501  18% \n",
            "of which central capex  loans * 4,254  4,000  6,000  50% 6,000 0%\n",
            "──────────────────────────────────────────────\n",
            "```\n"
          ]
        }
      ]
    },
    {
      "cell_type": "markdown",
      "source": [
        "**Question 2**\n",
        "\n",
        "we are asking the question from Gujrat budget pdf without specifying the pdf name context to\n",
        "check if llm correctly identify the context."
      ],
      "metadata": {
        "id": "IYnkywQ5m5oH"
      }
    },
    {
      "cell_type": "code",
      "source": [
        "question = \"How has capital outlay changed from 2024–25 to 2025–26?\"\n",
        "response = qa_chain.invoke({\"question\": question})\n",
        "print(\"\\nAnswer:\")\n",
        "print(response[\"answer\"])"
      ],
      "metadata": {
        "id": "VYEQ-lxYmXI9",
        "colab": {
          "base_uri": "https://localhost:8080/"
        },
        "outputId": "0c50273b-cf29-45d0-e348-c16a94c966f0"
      },
      "execution_count": null,
      "outputs": [
        {
          "output_type": "stream",
          "name": "stdout",
          "text": [
            "\n",
            "Answer:\n",
            "For Gujarat, the capital outlay for 2025-26 is proposed to be Rs 95,472 crore, an increase of 36% from the revised estimate of 2024-25. For Maharashtra, the capital outlay for 2025-26 is proposed to be Rs 84,475 crore, a decrease of 11% from the revised estimate of 2024-25.\n"
          ]
        }
      ]
    },
    {
      "cell_type": "code",
      "source": [
        "print(\"\\n--- Full Sources with Highlighted Snippets ---\")\n",
        "highlighted_full_chunks = highlight_relevant_sources_full_chunk(response[\"answer\"], response[\"source_documents\"])\n",
        "print(highlighted_full_chunks)\n"
      ],
      "metadata": {
        "id": "y_Ysk-izmW8X",
        "colab": {
          "base_uri": "https://localhost:8080/"
        },
        "outputId": "c89c15ed-2975-41a9-9f5d-c42bd40f6a5c"
      },
      "execution_count": null,
      "outputs": [
        {
          "output_type": "stream",
          "name": "stdout",
          "text": [
            "\n",
            "--- Full Sources with Highlighted Snippets ---\n",
            "════════════════════════════════════════════════════════════════\n",
            "📄 Source: Gujarat_Budget_Analysis_2025-26 | Page: 2 | Chunk ID: 4\n",
            "════════════════════════════════════════════════════════════════\n",
            "RE 2 4-25 to BE \n",
            "25-26 \n",
            "Revenue Expendi ture 1,89,296 2,19,832 2,10,181 -4% 2,31,858 10% \n",
            "**Capital Outlay 55,679 75,689 70,173 -7% 95,472 36%** \n",
            "Loans given by the state 2,667 3,842 3,548 -8% 4,821 36% \n",
            "Net Expenditure 2,47,632 2,99,362 2,83,902 -5% 3,32,150 17% \n",
            "Sources: Annual Financial Statemen t, Gujarat Budget Documents 2025-26; PRS. Social Sector Expenditure \n",
            "The 15th Finance Commission (2021) had recommended \n",
            "that Gujarat enhance social expenditure , and increase \n",
            "focus towards uplifting backward districts . \n",
            "Source: Development Expenditure: Select Indicators, \n",
            "RBI, PRS.\n",
            "The RBI defines social sector expenditure to include \n",
            "spending on items such as health, education, welfare of \n",
            "SCs, STs, and OBCs, and rural development. According \n",
            "to the RBI ; (2024), on an average, states allocated 8% of \n",
            "their GSDP on the social sector in 2024-25. Gujarat \n",
            "allocated 4.6% of its GSDP on social spending. This was\n",
            "────────────────────────────────────────────────────────────────\n",
            "════════════════════════════════════════════════════════════════\n",
            "📄 Source: Gujarat_Budget_Analysis_2025-26 | Page: 2 | Chunk ID: 3\n",
            "════════════════════════════════════════════════════════════════\n",
            "Note : BE is Budget Estimate s; RE is Revised Estimate s. *Central government has been providing 50 -year interest -free loans to state \n",
            "governments for capital expenditure since 2020 -21. These loans are excluded from the calculation of the state's borrowing ceiling. \n",
            "Sources: Annual Financial Statement , Gujarat Budget Documents 2025-26; PRS. \n",
            "Expenditure in 2025-26 \n",
            " Revenue expenditure for 2025 -26 is proposed to be Rs 2,31,858 crore, a n increase of 10% over the revised \n",
            "estimate of 2024 -25. This includes committed spending \n",
            "on salaries, pension, and interest and other expenditure on \n",
            "grants and subsidies. \n",
            " **Capital outlay for 20 25-26 is proposed to be Rs 95,472 crore, a n increase of 36% from the revised estimate of \n",
            "2024 -25.** Capital outlay indicates expenditure towards \n",
            "creation of assets. The budgeted incr ease in capital outlay \n",
            "is on account of: (i) urban development (increase d outlay \n",
            "of Rs 6,006 crore), (ii ) irrigation and flood contr ol\n",
            "────────────────────────────────────────────────────────────────\n",
            "════════════════════════════════════════════════════════════════\n",
            "📄 Source: MH_Budget_Analysis_2025-26 | Page: 2 | Chunk ID: 3\n",
            "════════════════════════════════════════════════════════════════\n",
            "Sources: Annual Financial Statement , Maharashtra Budget Documents 2025-26; PRS. \n",
            "Expenditure in 2025-26 \n",
            " Revenue expenditure for 2025 -26 is proposed \n",
            "to be Rs 6,06,855 crore, a n increase of 8% \n",
            "over the revised estimate of 2024 -25. This \n",
            "includes the expenditure on salaries, pension, \n",
            "interest, grants, and subsidies. \n",
            " **Capital outlay for 202 5-26 is proposed to be \n",
            "Rs 84,475 crore, a decrease of 11% from the \n",
            "revised estimate of 202 4-25.** Capital outlay \n",
            "indicates the expenditure towards creation of \n",
            "assets . Capital outlay has been significantly \n",
            "reduced on: (i) roads and bridges (Rs 6,551 \n",
            "crore), (ii) urban development (Rs 6,442 crore) \n",
            "and (iii) health (Rs 2,677 crore). \n",
            " In 202 5-26, loans and advances by the state are \n",
            "expected to be Rs 8,708 crore, 38% lower as compared to the revised estimate of 2024 -25. \n",
            "Table 2: Expenditure budget 2025-26 (in Rs crore) \n",
            "Items 2023-24\n",
            "────────────────────────────────────────────────────────────────\n",
            "════════════════════════════════════════════════════════════════\n",
            "📄 Source: MH_Budget_Analysis_2025-26 | Page: 2 | Chunk ID: 4\n",
            "════════════════════════════════════════════════════════════════\n",
            " In 202 5-26, loans and advances by the state are \n",
            "expected to be Rs 8,708 crore, 38% lower as compared to the revised estimate of 2024 -25. \n",
            "Table 2: Expenditure budget 2025-26 (in Rs crore) \n",
            "Items 2023-24 \n",
            "Actuals 2024-25 \n",
            "Budgeted 2024-25 \n",
            "Revised % change from \n",
            "BE 2 4-25 to RE \n",
            "24-25 2025-26 \n",
            "Budgeted % change from \n",
            "RE 2 4-25 to BE \n",
            "25-26 \n",
            "Revenue Expenditure 4,44,350 5,19,514 5,62,999 8% 6,06,855 8% \n",
            "**Capital Outlay 72,573 85,292 95,022 11% 84,457 -11%** \n",
            "Loans given by the state 4,974 7,487 14,009 87% 8,708 -38% \n",
            "Net Expenditure 5,21,898 6,12,293 6,72,030 10% 7,00,020 4% \n",
            "Sources: Annual Financial Statement , Maharashtra Budget Documents 2025-26; PRS. Increasing revenue deficit \n",
            "A state incurs revenue deficit when its revenue expenditure exceeds \n",
            "revenue receipts. In 2023 -24, Maharashtra had a revenue deficit of Rs \n",
            "13,754 crore (0.3% of GSDP). This is estimated to increase to Rs 45,891\n",
            "────────────────────────────────────────────────────────────────\n"
          ]
        }
      ]
    },
    {
      "cell_type": "markdown",
      "source": [
        "**Question 3**\n",
        "\n",
        "3rd check"
      ],
      "metadata": {
        "id": "CLHqpum21Tft"
      }
    },
    {
      "cell_type": "code",
      "source": [
        "question = \"How much budget is allocated to Swarnim Mukhya Mantri Shaheri Vikas Yojana?\"\n",
        "response = qa_chain.invoke({\"question\": question})\n",
        "print(\"\\nAnswer:\")\n",
        "print(response[\"answer\"])"
      ],
      "metadata": {
        "colab": {
          "base_uri": "https://localhost:8080/"
        },
        "id": "3UkLzAPC1Q0C",
        "outputId": "c02f2b27-7fb6-4904-a31a-f7f1139b088a"
      },
      "execution_count": null,
      "outputs": [
        {
          "output_type": "stream",
          "name": "stdout",
          "text": [
            "\n",
            "Answer:\n",
            "Rs 12,846 crore has been allocated towards Swarnim Mukhya Mantri Shaheri Vikas Yojana.\n"
          ]
        }
      ]
    },
    {
      "cell_type": "code",
      "source": [
        "print(\"\\n--- Full Sources with Highlighted Snippets ---\")\n",
        "highlighted_full_chunks = highlight_relevant_sources_full_chunk(response[\"answer\"], response[\"source_documents\"])\n",
        "print(highlighted_full_chunks)\n"
      ],
      "metadata": {
        "colab": {
          "base_uri": "https://localhost:8080/"
        },
        "id": "j3h9WEZe1QxY",
        "outputId": "e6c0a95d-a431-4b83-b475-507584f7fc7d"
      },
      "execution_count": null,
      "outputs": [
        {
          "output_type": "stream",
          "name": "stdout",
          "text": [
            "\n",
            "--- Full Sources with Highlighted Snippets ---\n",
            "════════════════════════════════════════════════════════════════\n",
            "📄 Source: Gujarat_Budget_Analysis_2025-26 | Page: 3 | Chunk ID: 2\n",
            "════════════════════════════════════════════════════════════════\n",
            "Annexure 1. \n",
            "Table 4: Sector -wise expenditure under Gujarat Budget 2025-26 (in Rs crore) \n",
            "Sector s 2023 -24 \n",
            "Actuals 2024 -25 \n",
            "BE 2024 -25 \n",
            "RE 2025 -26 \n",
            "BE % change from \n",
            "RE 24-25 to \n",
            "BE 25-26 Budget Provisions (20 25-26) \n",
            "Education, Sports, \n",
            "Arts, and Culture 37,901 44,579 43,395 48,476 12%  Rs 2,914 crore has been allocated towards Schools of \n",
            "Excellence \n",
            "Urban Development 16,973 18,634 19,744 25,750 30% ** Rs 12,846 crore has been allocated towards Swarnim \n",
            "Mukhya Mantri Shaheri Vikas Yojana**\n",
            "Transport 19,348 22,692 22,554 24,980 11%  Rs 5,002 crore has been allocated towards Mukhya \n",
            "Mantri Gram Sadak Yo jana \n",
            "Health and Family \n",
            "Welfare 16,211 19,348 20,589 22,840 11%  Rs 3, 491 crore has been allocated towards Aarogya \n",
            "Suraksha Yojana. \n",
            "Irrigation and Flood \n",
            "Control 12,104 17,438 14,309 18,476 29%  Rs 6,285 crore is allocated towards minor irrigation\n",
            "──────────────────────────────────────────────\n"
          ]
        }
      ]
    },
    {
      "cell_type": "markdown",
      "source": [
        "**Question 4**\n",
        "\n",
        "Now we ask questions on Maharashtra budget pdf"
      ],
      "metadata": {
        "id": "tjg1kl0B1Ws-"
      }
    },
    {
      "cell_type": "code",
      "source": [
        "question = \"What are the projected fiscal and revenue deficits for Maharashtra in 2025–26? \"\n",
        "response = qa_chain.invoke({\"question\": question})\n",
        "print(\"\\nAnswer:\")\n",
        "print(response[\"answer\"])"
      ],
      "metadata": {
        "colab": {
          "base_uri": "https://localhost:8080/"
        },
        "id": "lDo1CUa91Quw",
        "outputId": "398c9ccd-2e96-40c7-905c-fa66542d1568"
      },
      "execution_count": null,
      "outputs": [
        {
          "output_type": "stream",
          "name": "stdout",
          "text": [
            "\n",
            "Answer:\n",
            "The fiscal deficit for Maharashtra in 2025-26 is estimated to be 2.8% of GSDP (Rs 1,36,235 crore). The state estimates a revenue deficit of 0.9% of GSDP (Rs 45,891 crore) in 2025-26.\n"
          ]
        }
      ]
    },
    {
      "cell_type": "code",
      "source": [
        "print(\"\\n--- Full Sources with Highlighted Snippets ---\")\n",
        "highlighted_full_chunks = highlight_relevant_sources_full_chunk(response[\"answer\"], response[\"source_documents\"])\n",
        "print(highlighted_full_chunks)\n"
      ],
      "metadata": {
        "colab": {
          "base_uri": "https://localhost:8080/"
        },
        "id": "UrP8-wjl1QsI",
        "outputId": "8537a909-d188-42d5-f01d-c814e1c75e18"
      },
      "execution_count": null,
      "outputs": [
        {
          "output_type": "stream",
          "name": "stdout",
          "text": [
            "\n",
            "--- Full Sources with Highlighted Snippets ---\n",
            "Okay, here's the output based on the provided answer and document chunks:\n",
            "\n",
            "════════════════════════════════════════════════════════════════\n",
            "📄 Source: MH_Budget_Analysis_2025-26 | Page: 5 | Chunk ID: 1\n",
            "════════════════════════════════════════════════════════════════\n",
            "Fiscal deficit :  It is the excess of total expenditure over\n",
            "total receipts. This gap is filled by borrowings by the\n",
            "government and leads to an increase in total liabilities. **In\n",
            "2025 -26, the fiscal deficit is estimated to be 2.8% of\n",
            "GSDP**. For 2025-26, the central government has permitted\n",
            "fiscal deficit of up to 3% of GSDP to states . Additional\n",
            "borrowing space up to 0.5% of GSDP will also be\n",
            "available for undertaking certain power sector reforms.\n",
            "As per the revised estimates, in 202 4-25, the fi scal deficit\n",
            "of the state is expected to be 2.9% of GSDP. This is\n",
            "higher than the budget estimate of 2.6% of GSDP .\n",
            "Outstanding debt :  Outstanding debt is the accumulation\n",
            "of total borrowings at the end of a financial year. At the\n",
            "end of 2025-26, the ou tstanding debt is estimated to be\n",
            "18.4% of GSDP, lower than the revised estimate for 2024-\n",
            "25 (18.5% of GSDP).\n",
            "──────────────────────────────────────────────\n",
            "════════════════════════════════════════════════════════════════\n",
            "📄 Source: MH_Budget_Analysis_2025-26 | Page: 2 | Chunk ID: 0\n",
            "════════════════════════════════════════════════════════════════\n",
            "Maharashtra  Budget Analysis 2025 -26  PRS Legislative R esearch  \n",
            " \n",
            "April 1, 2025   - 2 - \n",
            " Budget Estimates for 2025-26 \n",
            " Total expenditure  (excluding debt repayment)  in 2025-26 is targeted at Rs 7,00,020  crore.  This is  an \n",
            "increase  of 4% from  the revised estimate of 2024-25.  This expenditure is proposed to be met through \n",
            "receipts ( excluding  borrowings)  of Rs 5,63,786  crore  and net borrowings of Rs  97,847  crore .  Total  \n",
            "receipts for 2025-26 (other than borrowings) are expected to register a n increase  of 5% over the revised \n",
            "estimate of 2024-25. \n",
            " **The state estimates a revenue deficit of 0.9% of GSDP (Rs 45,891 crore) in 2025-26**, as compared to a \n",
            "revenue deficit  of 0.6% of GSDP  at the revised estimate stage of 2024 -25.   \n",
            " **Fiscal deficit for 2025-26 is targeted at 2.8% of GSDP (Rs 1,36,235 crore)**, lower than the revised \n",
            "estimates for 2024-25 (2.9% of GSDP) .\n",
            "Table 1: Budget 2025-26 - Key figures (in Rs crore ) \n",
            "Items  2023-24\n",
            "──────────────────────────────────────────────\n",
            "════════════════════════════════════════════════════════════════\n",
            "📄 Source: MH_Budget_Analysis_2025-26 | Page: 2 | Chunk ID: 2\n",
            "════════════════════════════════════════════════════════════════\n",
            "Net Receipts (R)  4,31,339  5,01,938  5,39,157  7% 5,63,786  5% \n",
            "**Fiscal Deficit (E -R) 90,559  1,10,355  1,32,873  20% 1,36,235  3% \n",
            "as % of GSDP  2.2%  2.6%  2.9%   2.8%**   \n",
            "**Revenue Deficit  13,754  20,051  26,535  32% 45,891  73% \n",
            "as % of GSDP  0.3%  0.5%  0.6%   0.9%**   \n",
            "Primary Deficit  44,907  53,628  78,186  46% 71,756  -8% \n",
            "as % of GSDP  1.1%  1.3%  1.7%   1.4%   \n",
            "GSDP 40,55,847  42,67,771  45,31,518  6% 49,39 ,355 9% \n",
            "Note : BE is Budget Estimate s; RE is Revised Estimate s.  *Central government has been providing 50 -year interest -free loans to state \n",
            "governments for capital expenditure  since  2020 -21.  These loans are excluded from the calculation of the state's bo rrowing ceiling.  \n",
            "Sources: Annual Financial Statement , Maharashtra  Budget Documents 2025-26; PRS.  \n",
            "Expenditure in 2025-26 \n",
            " Revenue expenditure  for 2025 -26 is proposed \n",
            "to be Rs 6,06,855  crore, a n increase  of 8% \n",
            "over the revised estimate of 2024 -25.  This\n",
            "──────────────────────────────────────────────\n",
            "════════════════════════════════════════════════════════════════\n",
            "📄 Source: MH_Budget_Analysis_2025-26 | Page: 1 | Chunk ID: 1\n",
            "════════════════════════════════════════════════════════════════\n",
            "4% from  the revised estimate s of 2024-25.  In addit ion, debt of Rs 57,556  crore will be repaid by the state.  \n",
            " Receipts  (excluding borrowings)  for 2025-26 are estimated to be Rs 5,63,786  crore, an increase of 5%  as \n",
            "compared to  the revised estimate of 2024-25.   \n",
            " **Revenue deficit in 2025-26 is estimated to be 0.9% of GSDP (Rs 45,891 crore)**, as compared to a revenue \n",
            "deficit  of 0.6%  of GSDP (Rs 26,535  crore)  at the revised estimate stage in 2024 -25.   \n",
            " **Fiscal deficit for 2025-26 is targeted at 2.8% of GSDP (Rs 1,36,235 crore)**. In 2024-25, as per the revised \n",
            "estima tes, fiscal deficit is expected to be 2.9% of GSDP , higher  than the budget ed 2.6% of GSDP.  \n",
            "Policy  Highlights  \n",
            " New Industrial policy:  A new industrial policy for the state will be announced in 2025.  It will aim to attract \n",
            "investments worth Rs 40 lakh crore  and create 50 lakh jobs.  Separate policies will be announced for sectors \n",
            "such as space, defence, and electronics.\n",
            "──────────────────────────────────────────────\n"
          ]
        }
      ]
    },
    {
      "cell_type": "markdown",
      "source": [
        "**Question 5**\n",
        "\n",
        "similary we check if llm provides answer without providing the pdf name context."
      ],
      "metadata": {
        "id": "MwpUKA331ZMy"
      }
    },
    {
      "cell_type": "code",
      "source": [
        "question = \"What is the size and share of committed expenditure in 2025–26 budget of this state? \"\n",
        "response = qa_chain.invoke({\"question\": question})\n",
        "print(\"\\nAnswer:\")\n",
        "print(response[\"answer\"])"
      ],
      "metadata": {
        "colab": {
          "base_uri": "https://localhost:8080/"
        },
        "id": "2KXOiAfI1Qpi",
        "outputId": "69461e64-8476-4a7a-e72d-759bea6a6863"
      },
      "execution_count": null,
      "outputs": [
        {
          "output_type": "stream",
          "name": "stdout",
          "text": [
            "\n",
            "Answer:\n",
            "In 2025-26, Maharashtra is estimated to spend Rs 3,12,556 crore on committed expenditure, which is 56% of its estimated revenue receipts.\n"
          ]
        }
      ]
    },
    {
      "cell_type": "code",
      "source": [
        "print(\"\\n--- Full Sources with Highlighted Snippets ---\")\n",
        "highlighted_full_chunks = highlight_relevant_sources_full_chunk(response[\"answer\"], response[\"source_documents\"])\n",
        "print(highlighted_full_chunks)\n"
      ],
      "metadata": {
        "colab": {
          "base_uri": "https://localhost:8080/"
        },
        "id": "s91y68ng1Qmt",
        "outputId": "caecb060-78e3-44d5-b826-8bf89c20aa2a"
      },
      "execution_count": null,
      "outputs": [
        {
          "output_type": "stream",
          "name": "stdout",
          "text": [
            "\n",
            "--- Full Sources with Highlighted Snippets ---\n",
            "════════════════════════════════════════════════════════════════\n",
            "📄 Source: MH_Budget_Analysis_2025-26 | Page: 3 | Chunk ID: 0\n",
            "════════════════════════════════════════════════════════════════\n",
            "Maharashtra  Budget Analysis 2025 -26  PRS Legislative R esearch  \n",
            " \n",
            "April 1, 2025   - 3 - \n",
            " Committed expenditure:  Committed expenditure of a state typically includes expenditure on payment of \n",
            "salaries, pension, and interest.   A larger proportion of the budget allo cated for committed expenditure items \n",
            "limits the state’s flexibility to decide on other expenditure priorities , such as capital outlay.  **In 2025-26, \n",
            "Maharashtra is estimated to spend Rs 3,12,556 crore on co mmitted expenditure, which is 56% of its estimated  \n",
            "revenue receipts.** This co mprises spending on salaries ( 31% of revenue receipts), pension ( 13 %), and interest \n",
            "payments ( 12%).  In 202 3-24, as per actual  figures , 55% of revenue receipts w ere spent on committed items . \n",
            "Table 3: Comm itted Expenditure in  2025-26 (in Rs crore)  \n",
            "Committed Expenditure  2023-24 \n",
            "Actuals  2024-25 \n",
            "Budgeted  2024-25 \n",
            "Revised  % change \n",
            "from BE 2 4-25 \n",
            "to RE 2 4-25 2025-26 \n",
            "Budgeted  % change from \n",
            "RE 2 4-25 to\n",
            "────────────────────────────────────────────────────────────────\n"
          ]
        }
      ]
    },
    {
      "cell_type": "markdown",
      "source": [
        "**Question 6**\n",
        "\n",
        "questions on black hole pdf"
      ],
      "metadata": {
        "id": "1teb0FTC1bZV"
      }
    },
    {
      "cell_type": "code",
      "source": [
        "question = \"What is black hole and how it is created?\"\n",
        "response = qa_chain.invoke({\"question\": question})\n",
        "print(\"\\nAnswer:\")\n",
        "print(response[\"answer\"])"
      ],
      "metadata": {
        "colab": {
          "base_uri": "https://localhost:8080/"
        },
        "id": "duHig0cX1QAy",
        "outputId": "df1a9b95-e481-4e0e-d5e3-b1a10393fa1c"
      },
      "execution_count": null,
      "outputs": [
        {
          "output_type": "stream",
          "name": "stdout",
          "text": [
            "\n",
            "Answer:\n",
            "A black hole is a region in space where gravity is so strong that the escape velocity is faster than the speed of light. They are naturally formed when stars collapse into a single mass. When a massive star exhausts its nuclear fuel, the gravitational collapse causes the star to implode, resulting in a highly dense core known as a black hole.\n"
          ]
        }
      ]
    },
    {
      "cell_type": "code",
      "source": [
        "print(\"\\n--- Full Sources with Highlighted Snippets ---\")\n",
        "highlighted_full_chunks = highlight_relevant_sources_full_chunk(response[\"answer\"], response[\"source_documents\"])\n",
        "print(highlighted_full_chunks)\n"
      ],
      "metadata": {
        "colab": {
          "base_uri": "https://localhost:8080/"
        },
        "id": "5Da13ik71ivp",
        "outputId": "000bfff2-ca96-471b-d1e9-3b6043aed447"
      },
      "execution_count": null,
      "outputs": [
        {
          "output_type": "stream",
          "name": "stdout",
          "text": [
            "\n",
            "--- Full Sources with Highlighted Snippets ---\n",
            "════════════════════════════════════════════════════════════════\n",
            "📄 Source: Black hole mystry in the universe | Page: 1 | Chunk ID: 5\n",
            "════════════════════════════════════════════════════════════════\n",
            "interpretation as a region of space from which nothing can escape including light was first introduced by David Finkelstein i n 1958. \n",
            "In 1916, Karl Schwarzschild calculated that the black hole should have possessed a huge mass because of it s small radius \n",
            "(R=2×GM/C2, where G=Universal gravitational constant, M= Mass of the black hole, C= Speed of light in vacuum) and \n",
            "consequently to have an acceptable value of the radius, a very massive mass was necessary . \n",
            "WHAT ARE BLACK HOLES?  \n",
            "Most people think that a black hole is a massive whirlpool in space, sucking in everything around it. But that is not the whole story. \n",
            "**A black hole is a region in space where gravity is so strong that the escape velocity is faster than the speed  of light.** But what doe s \n",
            "it mean, exactly? Gravity is what keeps all the things on the earth, but it can be overcome anyway. If someone passes a coin up in\n",
            "────────────────────────────────────────────────────────────────\n",
            "════════════════════════════════════════════════════════════════\n",
            "📄 Source: Black hole mystry in the universe | Page: 3 | Chunk ID: 0\n",
            "════════════════════════════════════════════════════════════════\n",
            "© 2024 IJNRD | Volume 9, Issue 4 April 2024 | ISSN: 2456 -4184 | IJNRD.ORG\n",
            "IJNRD2404120 International Journal of Novel Research and Development ( www.ijnrd.org )\n",
            "b146\n",
            "c146\n",
            "1.1 Different Types of Black Holes\n",
            "Black holes come in different types based on their formation and properties.\n",
            "Here are the main types of black holes:\n",
            "1. **Stellar Black Holes: Stellar black holes are formed when massive stars collapse under their own gravity after they exhaust their nuclear fuel.** **The gravitational collapse causes the star to implode, resulting in a highly dense core known as a black hole.** Stel lar\n",
            "black holes have a mass range of about a few times to tens of times that of our Sun. They are typically a few kilometres in s ize and\n",
            "have an extremely strong gravitational pull.\n",
            "2. Intermediate -Mass Black Holes: Intermediate -mass black holes (IMBHs) have masses ranging from hundreds to thousands of\n",
            "────────────────────────────────────────────────────────────────\n",
            "════════════════════════════════════════════════════════════════\n",
            "📄 Source: Black hole mystry in the universe | Page: 4 | Chunk ID: 0\n",
            "════════════════════════════════════════════════════════════════\n",
            "© 2024 IJNRD | Volume 9, Issue 4 April 2024 | ISSN: 2456 -4184 | IJNRD.ORG\n",
            "IJNRD2404120 International Journal of Novel Research and Development ( www.ijnrd.org )\n",
            "b147\n",
            "c147\n",
            "\n",
            "1.2 **Formation of Black Holes\n",
            "Naturally occurring black holes form when stars collapse into a single mass.** Stars are very massive. Our nearest star, the sun, is\n",
            "roughly 1300000000 km wide and its weight is about 2×1030kg. Due to their enormous mass, they exert an extremely huge amount\n",
            "of gravitational force.\n",
            "1. Stellar Evolution: A massive star is initially in a state of equilibrium between the inward gravitational force and the outwar d\n",
            "pressure from nuclear fusion. The force of gravity is given by the expression:\n",
            "Fgravity = G × (mass star × mass particle )/r2\n",
            "where G = 6.67428×10 -11 M.K.S. unit is the gravitational constant, mass star is the mass of the star, mass particle is the mass of a par ticle\n",
            "within the star, and r is the distance from the centre of the star.\n",
            "────────────────────────────────────────────────────────────────\n",
            "════════════════════════════════════════════════════════════════\n",
            "📄 Source: Black hole mystry in the universe | Page: 2 | Chunk ID: 1\n",
            "════════════════════════════════════════════════════════════════\n",
            "To reiterate, **a black hole is a regio n in space where gravity is so incredibly strong that the escape velocity exceeds the speed of light.** Escape velocity refers to the minimum velocity an object needs to overcome the gravitational pull of a celestial body and break free from its influence. O n Earth, the escape velocity is approximately 11.2 kilometres per second (about 25,000 miles per hour). If an object attains a velocity greater than this, it can escape Earth's gravitational field. In the case of a black h ole, the escape velocity surpasses the speed of light, which is the fastest speed at which information or any form of matter can travel. Accordin g to our current understanding of physics, nothing can exceed or even reach the speed of light. Therefore, if an object or particl e ventures within the region known as the event horizon of a black hole, it is inevitably pulled towards the singularity, the central point of infinite density.\n",
            "────────────────────────────────────────────────────────────────\n"
          ]
        }
      ]
    },
    {
      "cell_type": "markdown",
      "source": [
        "**Question 7**"
      ],
      "metadata": {
        "id": "67kOl-lQ1jh3"
      }
    },
    {
      "cell_type": "code",
      "source": [
        "question = \"What happen when We fall into a it? \"\n",
        "response = qa_chain.invoke({\"question\": question})\n",
        "print(\"\\nAnswer:\")\n",
        "print(response[\"answer\"])"
      ],
      "metadata": {
        "colab": {
          "base_uri": "https://localhost:8080/"
        },
        "id": "OZPsT_Vf1isj",
        "outputId": "31cb2c45-a859-498c-8a10-d5b9139642e8"
      },
      "execution_count": null,
      "outputs": [
        {
          "output_type": "stream",
          "name": "stdout",
          "text": [
            "\n",
            "Answer:\n",
            "When someone falls into a black hole, they would experience an increasing gravitational pull. Time dilation would occur, meaning that time would appear to pass more slowly for the falling observer compared to an observer far away from the black hole. Once the observer crosses the event horizon, a point of no return, they would be unable to escape the black hole's gravitational pull. As the falling observer moves further inward, they would experience spaghettification, where the tidal forces near the black hole are incredibly strong, causing a significant difference in the gravitational pull between their head and feet, elongating them into a thin, elongated shape. As the falling observer continues to move closer to the black hole's singularity, the gravitational forces become infinitely strong, and the observer's ultimate fate would be to become part of the singularity, where their matter would be crushed to infinite density. From an external observer's perspective, it would take an infinite amount of time for an object to reach the event horizon of a black hole due to time dilation.\n"
          ]
        }
      ]
    },
    {
      "cell_type": "code",
      "source": [
        "print(\"\\n--- Full Sources with Highlighted Snippets ---\")\n",
        "highlighted_full_chunks = highlight_relevant_sources_full_chunk(response[\"answer\"], response[\"source_documents\"])\n",
        "print(highlighted_full_chunks)\n"
      ],
      "metadata": {
        "colab": {
          "base_uri": "https://localhost:8080/"
        },
        "id": "2ci_x2n61ipH",
        "outputId": "a3c4a5cf-845c-4bb2-b904-00c150be5ed4"
      },
      "execution_count": null,
      "outputs": [
        {
          "output_type": "stream",
          "name": "stdout",
          "text": [
            "\n",
            "--- Full Sources with Highlighted Snippets ---\n",
            "════════════════════════════════════════════════════════════════\n",
            "📄 Source: Black hole mystry in the universe | Page: 6 | Chunk ID: 2\n",
            "════════════════════════════════════════════════════════════════\n",
            "as being \"pulled\" or \"sucked in.\" It's worth noting that the extreme conditions near black holes can have powerful tidal forces, w hich \n",
            "can stretch and deform objects that come close. These tidal forces can be highly destructive, tearing apart objects before they cr oss \n",
            "the event horizon.\n",
            "1.5 What happen when We fall into a Black Hole?\n",
            "**If someone were to fall into a black hole, the experience would be quite different depending on their position relative to the eve nt \n",
            "horizon. Let's explore the hypothetical scenario of an observer falling into a black hole:**\n",
            "1. **Approaching the Event Horizon: As an observer falls towards a black hole, they would experience the increasing gravitational \n",
            "pull. Time dilation would occur, meaning that time would appear to pass more slowly for the falling observer compared to an \n",
            "observer far away from the black hole. This effect becomes more pronounced as the observer approaches t he event horizon.**\n",
            "──────────────────────────────────────────────\n",
            "════════════════════════════════════════════════════════════════\n",
            "📄 Source: Black hole mystry in the universe | Page: 6 | Chunk ID: 8\n",
            "════════════════════════════════════════════════════════════════\n",
            "**It's also worth mentioning that from an outside observer's perspective, it would take an infinite amount of time for an objec t to reach \n",
            "the event horizon of a black h ole. This is due to time dilation and the fact that the gravitational pull near the event horizon s lows \n",
            "down the flow of time for the falling object. However, for the object itself, time would continue to pass as it falls toward the \n",
            "singularity.**\n",
            "──────────────────────────────────────────────\n",
            "════════════════════════════════════════════════════════════════\n",
            "📄 Source: Black hole mystry in the universe | Page: 6 | Chunk ID: 3\n",
            "════════════════════════════════════════════════════════════════\n",
            "pull. **Time dilation would occur, meaning that time would appear to pass more slowly for the falling observer compared to an \n",
            "observer far away from the black hole. This effect becomes more pronounced as the observer approaches t he event horizon.**\n",
            "2. **Crossing the Event Horizon: Once the observer crosses the event horizon, a point of no return, they would be unable to escape \n",
            "the black hole's gravitational pull.** From an external observer's perspective, the falling observer would appe ar to freeze at the event \n",
            "horizon due to the extreme time dilation. However, from the perspective of the falling observer, they would continue their jo urney \n",
            "toward the black hole's singularity.\n",
            "3. **Spaghettification: As the falling observer moves further in ward, they would experience an effect known as spaghettification. T he \n",
            "tidal forces near the black hole are incredibly strong, causing a significant difference in the gravitational pull between th eir head**\n",
            "──────────────────────────────────────────────\n",
            "════════════════════════════════════════════════════════════════\n",
            "📄 Source: Black hole mystry in the universe | Page: 6 | Chunk ID: 4\n",
            "════════════════════════════════════════════════════════════════\n",
            "3. **Spaghettification: As the falling observer moves further in ward, they would experience an effect known as spaghettification. T he \n",
            "tidal forces near the black hole are incredibly strong, causing a significant difference in the gravitational pull between th eir head \n",
            "and feet. This immense stretching force would elonga te the observer into a thin, elongated shape resembling spaghetti. It is a re sult \n",
            "of the extreme gravitational gradient near the black hole.**\n",
            "4. **Approaching the Singularity: As the falling observer continues to move closer to the black hole's singularity, t he gravitation al \n",
            "forces become infinitely strong. According to our current understanding, at the singularity, spacetime curvature becomes infi nitely \n",
            "severe, and the laws of physics, as we currently understand them, break down. The observer's ultimate fate would be to become part  \n",
            "of the singularity, where their matter would be crushed to infinite density.**\n",
            "──────────────────────────────────────────────\n",
            "════════════════════════════════════════════════════════════════\n",
            "📄 Source: Black hole mystry in the universe | Page: 6 | Chunk ID: 5\n",
            "════════════════════════════════════════════════════════════════\n",
            "severe, and the laws of physics, as we currently understand them, break down. **The observer's ultimate fate would be to become part  \n",
            "of the singularity, where their matter would be crushed to infinite density.**\n",
            "It's essential to note that the above description is based on our current understanding of general relativity. However, the t rue nature \n",
            "of what happens ins ide a black hole, particularly at the singularity, is not yet fully understood. Resolving the behavior of sing ularities \n",
            "is an active area of research and requires a theory that unifies general relativity with quantum mechanics.\n",
            "1.6 Effect of Relativity in Black Hole?\n",
            "There is a common misconception that time doesn't exist in black holes. However, it's important to clarify the concept and un derstand\n",
            "──────────────────────────────────────────────\n",
            "════════════════════════════════════════════════════════════════\n",
            "📄 Source: Black hole mystry in the universe | Page: 6 | Chunk ID: 6\n",
            "════════════════════════════════════════════════════════════════\n",
            "There is a common misconception that time doesn't exist in black holes. However, it's important to clarify the concept and un derstand \n",
            "the role of time in the context of black holes. In the vicinity of a black hole, the intense gravitational fi eld causes significa nt \n",
            "distortions in the fabric of spacetime. According to general relativity, these distortions affect the flow of time itself, le ading to what \n",
            "is known as time dilation. **Time dilation refers to the phenomenon where the passage of time is experienced differently depending \n",
            "on the strength of the gravitational field.**\n",
            "As an observer approaches a black hole, they would experience time dilation compared to an observer further away from the bla ck \n",
            "hole. **This means that time would appear to pass more slowly for the observer closer to the black hole than for the observer furthe r \n",
            "away. This effect becomes more pronounced as the observer gets closer to the event horizon.** However, it's essential to note t hat time\n",
            "──────────────────────────────────────────────\n",
            "════════════════════════════════════════════════════════════════\n",
            "📄 Source: Black hole mystry in the universe | Page: 6 | Chunk ID: 7\n",
            "════════════════════════════════════════════════════════════════\n",
            "hole. **This means that time would appear to pass more slowly for the observer closer to the black hole than for the observer furthe r \n",
            "away. This effect becomes more pronounced as the observer gets closer to the event horizon.** However, it's essential to note t hat time \n",
            "does indeed exist inside a black hole, but our understanding of it becomes uncertain near the singularity. According to our curre nt \n",
            "understanding, singularity is a point of infinite density at the center of a black hole, where the laws of physics, including our \n",
            "understanding of time, break dow n. Therefore, our conventional concept of time may not be applicable at the singularity.\n",
            "**It's also worth mentioning that from an outside observer's perspective, it would take an infinite amount of time for an objec t to reach \n",
            "the event horizon of a black h ole. This is due to time dilation and the fact that the gravitational pull near the event horizon s lows**\n",
            "──────────────────────────────────────────────\n"
          ]
        }
      ]
    },
    {
      "cell_type": "markdown",
      "source": [
        "**Question 8**"
      ],
      "metadata": {
        "id": "NQ1Y0eBo9e7n"
      }
    },
    {
      "cell_type": "code",
      "source": [
        "question = \"What is Event Horizon\"\n",
        "response = qa_chain.invoke({\"question\": question})\n",
        "print(\"\\nAnswer:\")\n",
        "print(response[\"answer\"])"
      ],
      "metadata": {
        "colab": {
          "base_uri": "https://localhost:8080/"
        },
        "id": "ebj9kFAR9YTU",
        "outputId": "547de8e1-a861-4738-a9b9-c85b70479131"
      },
      "execution_count": null,
      "outputs": [
        {
          "output_type": "stream",
          "name": "stdout",
          "text": [
            "\n",
            "Answer:\n",
            "The event horizon is the boundary of a black hole, marking the point of no return. It is the region beyond which nothing, including light, can escape the gravitational pull of the black hole. Once an object crosses the event horizon, it is inevitably drawn toward the singularity. From an external observer's perspective, the event horizon appears as a spherical surface surrounding the black hole.\n"
          ]
        }
      ]
    },
    {
      "cell_type": "code",
      "source": [
        "print(\"\\n--- Full Sources with Highlighted Snippets ---\")\n",
        "highlighted_full_chunks = highlight_relevant_sources_full_chunk(response[\"answer\"], response[\"source_documents\"])\n",
        "print(highlighted_full_chunks)\n"
      ],
      "metadata": {
        "colab": {
          "base_uri": "https://localhost:8080/"
        },
        "id": "sVZCN83a9Zx9",
        "outputId": "7251a093-2e19-46b8-dc42-3654d78338d0"
      },
      "execution_count": null,
      "outputs": [
        {
          "output_type": "stream",
          "name": "stdout",
          "text": [
            "\n",
            "--- Full Sources with Highlighted Snippets ---\n",
            "════════════════════════════════════════════════════════════════\n",
            "📄 Source: Black hole mystry in the universe | Page: 5 | Chunk ID: 1\n",
            "════════════════════════════════════════════════════════════════\n",
            "understanding, singularity is a region where the laws of physics, as we know them, break down. The concept of singularity ari ses \n",
            "from the mathematics of general relativity, but it is still a subject of active research and debate. The s ingularity is hidden be neath \n",
            "the event horizon and is inaccessible to direct observation.\n",
            "**2. Event Horizon: The event horizon is the boundary of a black hole, marking the point of no return. It is the region beyond whic h \n",
            "nothing, including light, can escap e the gravitational pull of the black hole. Once an object crosses the event horizon, it is in evitably \n",
            "drawn toward the singularity. From an external observer's perspective, the event horizon appears as a spherical surface surro unding \n",
            "the black hole.**\n",
            "3. Ac cretion Disk: Around many black holes, particularly stellar black holes, and supermassive black holes, there can be an accre tion\n",
            "────────────────────────────────────────────────────────────────\n"
          ]
        }
      ]
    },
    {
      "cell_type": "markdown",
      "source": [
        "**Displaying Conversation History**\n",
        "\n",
        "Finally, we can inspect the conversation history stored in the qa_chain's memory. This shows how the LLM maintains context across turns.\n"
      ],
      "metadata": {
        "id": "RbrKc0HKnywg"
      }
    },
    {
      "cell_type": "code",
      "source": [
        "# Step 8: Display Conversation History\n",
        "print(\"\\n--- Conversation History ---\")\n",
        "for i in range(0, len(qa_chain.memory.chat_memory.messages), 2):\n",
        "    user_message = qa_chain.memory.chat_memory.messages[i].content\n",
        "    assistant_message = qa_chain.memory.chat_memory.messages[i+1].content\n",
        "\n",
        "\n",
        "    print(f\"Question: {i//2 + 1}.\")\n",
        "    print(f\"User: {user_message}\")\n",
        "    print(\"-\"*100)\n",
        "    print(f\"Assistant: {assistant_message}\")\n",
        "    print(\"=\"*100)\n",
        "    print(\"\\n\")\n",
        "\n"
      ],
      "metadata": {
        "id": "_W4-XEQ2mUVG",
        "colab": {
          "base_uri": "https://localhost:8080/"
        },
        "outputId": "fcd74711-3def-4127-a550-e6c48c8ce548"
      },
      "execution_count": null,
      "outputs": [
        {
          "output_type": "stream",
          "name": "stdout",
          "text": [
            "\n",
            "--- Conversation History ---\n",
            "Question: 1.\n",
            "User: What is Gujarat's projected fiscal deficit as a percentage of GSDP for FY 2025–26?\n",
            "----------------------------------------------------------------------------------------------------\n",
            "Assistant: The fiscal deficit for 2025-26 is targeted at 2% of GSDP (Rs 58,397 crore), which is higher than the revised estimates for 2024-25 (1.9% of GSDP).\n",
            "====================================================================================================\n",
            "\n",
            "\n",
            "Question: 2.\n",
            "User: How has capital outlay changed from 2024–25 to 2025–26?\n",
            "----------------------------------------------------------------------------------------------------\n",
            "Assistant: For Gujarat, the capital outlay for 2025-26 is proposed to be Rs 95,472 crore, an increase of 36% from the revised estimate of 2024-25. For Maharashtra, the capital outlay for 2025-26 is proposed to be Rs 84,475 crore, a decrease of 11% from the revised estimate of 2024-25.\n",
            "====================================================================================================\n",
            "\n",
            "\n",
            "Question: 3.\n",
            "User: How much budget is allocated to Swarnim Mukhya Mantri Shaheri Vikas Yojana?\n",
            "----------------------------------------------------------------------------------------------------\n",
            "Assistant: Rs 12,846 crore has been allocated towards Swarnim Mukhya Mantri Shaheri Vikas Yojana.\n",
            "====================================================================================================\n",
            "\n",
            "\n",
            "Question: 4.\n",
            "User: What are the projected fiscal and revenue deficits for Maharashtra in 2025–26? \n",
            "----------------------------------------------------------------------------------------------------\n",
            "Assistant: The fiscal deficit for Maharashtra in 2025-26 is estimated to be 2.8% of GSDP (Rs 1,36,235 crore). The state estimates a revenue deficit of 0.9% of GSDP (Rs 45,891 crore) in 2025-26.\n",
            "====================================================================================================\n",
            "\n",
            "\n",
            "Question: 5.\n",
            "User: What is the size and share of committed expenditure in 2025–26 budget of this state? \n",
            "----------------------------------------------------------------------------------------------------\n",
            "Assistant: In 2025-26, Maharashtra is estimated to spend Rs 3,12,556 crore on committed expenditure, which is 56% of its estimated revenue receipts.\n",
            "====================================================================================================\n",
            "\n",
            "\n",
            "Question: 6.\n",
            "User: What is black hole and how it is created?\n",
            "----------------------------------------------------------------------------------------------------\n",
            "Assistant: A black hole is a region in space where gravity is so strong that the escape velocity is faster than the speed of light. They are naturally formed when stars collapse into a single mass. When a massive star exhausts its nuclear fuel, the gravitational collapse causes the star to implode, resulting in a highly dense core known as a black hole.\n",
            "====================================================================================================\n",
            "\n",
            "\n",
            "Question: 7.\n",
            "User: What happen when We fall into a it? \n",
            "----------------------------------------------------------------------------------------------------\n",
            "Assistant: When someone falls into a black hole, they would experience an increasing gravitational pull. Time dilation would occur, meaning that time would appear to pass more slowly for the falling observer compared to an observer far away from the black hole. Once the observer crosses the event horizon, a point of no return, they would be unable to escape the black hole's gravitational pull. As the falling observer moves further inward, they would experience spaghettification, where the tidal forces near the black hole are incredibly strong, causing a significant difference in the gravitational pull between their head and feet, elongating them into a thin, elongated shape. As the falling observer continues to move closer to the black hole's singularity, the gravitational forces become infinitely strong, and the observer's ultimate fate would be to become part of the singularity, where their matter would be crushed to infinite density. From an external observer's perspective, it would take an infinite amount of time for an object to reach the event horizon of a black hole due to time dilation.\n",
            "====================================================================================================\n",
            "\n",
            "\n",
            "Question: 8.\n",
            "User: What is Event Horizon\n",
            "----------------------------------------------------------------------------------------------------\n",
            "Assistant: The event horizon is the boundary of a black hole, marking the point of no return. It is the region beyond which nothing, including light, can escape the gravitational pull of the black hole. Once an object crosses the event horizon, it is inevitably drawn toward the singularity. From an external observer's perspective, the event horizon appears as a spherical surface surrounding the black hole.\n",
            "====================================================================================================\n",
            "\n",
            "\n"
          ]
        }
      ]
    },
    {
      "cell_type": "code",
      "source": [],
      "metadata": {
        "id": "N-6Y08UJNGL1"
      },
      "execution_count": null,
      "outputs": []
    }
  ]
}